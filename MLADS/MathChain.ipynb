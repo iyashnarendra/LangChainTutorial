{
 "cells": [
  {
   "cell_type": "markdown",
   "id": "728f1747-b8fc-4d31-96c2-047fc83c079d",
   "metadata": {},
   "source": [
    "# MathChain"
   ]
  },
  {
   "cell_type": "code",
   "execution_count": 6,
   "id": "781c65fc-b139-43e0-95d3-714ad4220205",
   "metadata": {},
   "outputs": [],
   "source": [
    "model = ChatOpenAI(model_name=\"gpt-3.5-turbo\", temperature=0)"
   ]
  },
  {
   "cell_type": "code",
   "execution_count": 7,
   "id": "f3e75218-d45b-4329-a176-861734d03447",
   "metadata": {},
   "outputs": [
    {
     "data": {
      "text/plain": [
       "'17 raised to the power of 11 is equal to 1,419,857,031,987.'"
      ]
     },
     "execution_count": 7,
     "metadata": {},
     "output_type": "execute_result"
    }
   ],
   "source": [
    "result = model([HumanMessage(content=\"What is 17 raised to the power of 11?\")])\n",
    "result.content # UH OH!"
   ]
  },
  {
   "cell_type": "code",
   "execution_count": 44,
   "id": "7a766d75-1aca-42f4-8d8d-b7de5a140600",
   "metadata": {},
   "outputs": [
    {
     "data": {
      "text/plain": [
       "34271896307633"
      ]
     },
     "execution_count": 44,
     "metadata": {},
     "output_type": "execute_result"
    }
   ],
   "source": [
    "eval('17**11')"
   ]
  },
  {
   "cell_type": "code",
   "execution_count": 3,
   "id": "cd3d33fa-113b-41c1-870f-68d281fc2587",
   "metadata": {},
   "outputs": [],
   "source": [
    "from langchain.chat_models import ChatOpenAI\n",
    "from langchain.prompts import ChatPromptTemplate, HumanMessagePromptTemplate\n",
    "\n",
    "from langchain.schema import (\n",
    "    AIMessage,\n",
    "    HumanMessage,\n",
    "    SystemMessage\n",
    ")\n",
    "\n",
    "import os\n",
    "from dotenv import load_dotenv, find_dotenv\n",
    "load_dotenv(find_dotenv(), override=True)\n",
    "api_key = os.getenv(\"OPENAI_API_KEY\")"
   ]
  },
  {
   "cell_type": "markdown",
   "id": "4cfd180e-3fba-4839-93d6-317d708e2039",
   "metadata": {},
   "source": [
    "## MathChain!"
   ]
  },
  {
   "cell_type": "code",
   "execution_count": 10,
   "id": "9b942aac-db7e-4a76-8a19-a887c1b5dd35",
   "metadata": {},
   "outputs": [],
   "source": [
    "from langchain import LLMMathChain"
   ]
  },
  {
   "cell_type": "code",
   "execution_count": 13,
   "id": "cd2cffa5-ced1-4793-b1e7-0ed2047a06a0",
   "metadata": {},
   "outputs": [],
   "source": [
    "llm_math_model = LLMMathChain.from_llm(model, verbose = True )"
   ]
  },
  {
   "cell_type": "code",
   "execution_count": 14,
   "id": "c57fd11b-f12b-41ce-af4a-a9e54136447d",
   "metadata": {
    "scrolled": true
   },
   "outputs": [
    {
     "name": "stdout",
     "output_type": "stream",
     "text": [
      "\n",
      "\n",
      "\u001b[1m> Entering new LLMMathChain chain...\u001b[0m\n",
      "What is 17 raised to the power of 11?\u001b[32;1m\u001b[1;3m```text\n",
      "17 ** 11\n",
      "```\n",
      "...numexpr.evaluate(\"17 ** 11\")...\n",
      "\u001b[0m\n",
      "Answer: \u001b[33;1m\u001b[1;3m34271896307633\u001b[0m\n",
      "\u001b[1m> Finished chain.\u001b[0m\n"
     ]
    },
    {
     "data": {
      "text/plain": [
       "{'question': 'What is 17 raised to the power of 11?',\n",
       " 'answer': 'Answer: 34271896307633'}"
      ]
     },
     "execution_count": 14,
     "metadata": {},
     "output_type": "execute_result"
    }
   ],
   "source": [
    "llm_math_model(\"What is 17 raised to the power of 11?\")"
   ]
  },
  {
   "cell_type": "markdown",
   "id": "037325fa",
   "metadata": {},
   "source": [
    "## What's happening in the backend"
   ]
  },
  {
   "cell_type": "code",
   "execution_count": 8,
   "id": "2831050d-0d17-4ba7-be5c-e269067c8fe1",
   "metadata": {},
   "outputs": [
    {
     "data": {
      "text/plain": [
       "'17 ** 11'"
      ]
     },
     "execution_count": 8,
     "metadata": {},
     "output_type": "execute_result"
    }
   ],
   "source": [
    "result = model([HumanMessage(content=\"Give me the Python formula that represents: What is 17 raised to the power of 11? Only reply with the formula, nothing else!\")])\n",
    "result.content # UH OH!"
   ]
  },
  {
   "cell_type": "code",
   "execution_count": 9,
   "id": "43fa0e3a-7d2a-4f27-9a48-fc4fed306bb4",
   "metadata": {},
   "outputs": [
    {
     "data": {
      "text/plain": [
       "34271896307633"
      ]
     },
     "execution_count": 9,
     "metadata": {},
     "output_type": "execute_result"
    }
   ],
   "source": [
    "eval(result.content)"
   ]
  },
  {
   "cell_type": "code",
   "execution_count": null,
   "id": "9afa5dec-46a2-42ae-bfef-841eb80a677f",
   "metadata": {},
   "outputs": [],
   "source": []
  }
 ],
 "metadata": {
  "kernelspec": {
   "display_name": "Python 3 (ipykernel)",
   "language": "python",
   "name": "python3"
  },
  "language_info": {
   "codemirror_mode": {
    "name": "ipython",
    "version": 3
   },
   "file_extension": ".py",
   "mimetype": "text/x-python",
   "name": "python",
   "nbconvert_exporter": "python",
   "pygments_lexer": "ipython3",
   "version": "3.11.5"
  }
 },
 "nbformat": 4,
 "nbformat_minor": 5
}
