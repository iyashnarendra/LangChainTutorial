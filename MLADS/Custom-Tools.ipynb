{
 "cells": [
  {
   "cell_type": "markdown",
   "id": "728f1747-b8fc-4d31-96c2-047fc83c079d",
   "metadata": {},
   "source": [
    "# Custom Tools\n",
    "\n",
    "Documentation: https://python.langchain.com/docs/modules/agents/tools/custom_tools"
   ]
  },
  {
   "cell_type": "code",
   "execution_count": 1,
   "id": "244f42d8-2349-446e-a1c2-ae4b8d3ee38f",
   "metadata": {},
   "outputs": [],
   "source": [
    "from langchain.agents import load_tools\n",
    "from langchain.agents import initialize_agent\n",
    "from langchain.agents import AgentType\n",
    "from langchain.llms import OpenAI\n",
    "import os\n",
    "from dotenv import load_dotenv, find_dotenv\n",
    "load_dotenv(find_dotenv(), override=True)\n",
    "api_key = os.getenv(\"OPENAI_API_KEY\")"
   ]
  },
  {
   "cell_type": "markdown",
   "id": "3e26de5b-82e2-47c2-b1d4-5174f142e3bd",
   "metadata": {},
   "source": [
    "### Wrap your own function with the tool decorator"
   ]
  },
  {
   "cell_type": "code",
   "execution_count": 2,
   "id": "abb11b29-8b95-424f-9470-20adb810dd8f",
   "metadata": {},
   "outputs": [],
   "source": [
    "from langchain.agents import tool"
   ]
  },
  {
   "cell_type": "code",
   "execution_count": 5,
   "id": "1a798765-e8ca-4741-a916-b52ca38d95a7",
   "metadata": {},
   "outputs": [],
   "source": [
    "from datetime import datetime\n",
    "@tool\n",
    "def get_time(text: str) -> str:\n",
    "    '''Returns the current time. Use this for any questions\n",
    "    regarding the current time. Input is an empty string and\n",
    "    the current time is returned in a string format. Only use this function\n",
    "    for the current time. Other time related questions should use another tool'''\n",
    "    return str(datetime.now())"
   ]
  },
  {
   "cell_type": "code",
   "execution_count": 6,
   "id": "de49a069-fcf1-465b-8e20-9410680645e1",
   "metadata": {},
   "outputs": [],
   "source": [
    "llm = OpenAI(temperature=0)"
   ]
  },
  {
   "cell_type": "code",
   "execution_count": 7,
   "id": "6601363b",
   "metadata": {},
   "outputs": [],
   "source": [
    "tools = load_tools([\"wikipedia\"], llm=llm)"
   ]
  },
  {
   "cell_type": "code",
   "execution_count": 8,
   "id": "0ac4948a",
   "metadata": {},
   "outputs": [],
   "source": [
    "agent = initialize_agent(tools, \n",
    "                         llm, \n",
    "                         agent=AgentType.ZERO_SHOT_REACT_DESCRIPTION, \n",
    "                         verbose=True)"
   ]
  },
  {
   "cell_type": "code",
   "execution_count": 9,
   "id": "f4de73f6",
   "metadata": {},
   "outputs": [
    {
     "name": "stdout",
     "output_type": "stream",
     "text": [
      "\n",
      "\n",
      "\u001b[1m> Entering new AgentExecutor chain...\u001b[0m\n",
      "\u001b[32;1m\u001b[1;3m I need to find out the current time.\n",
      "Action: Wikipedia\n",
      "Action Input: Current time\u001b[0m\n",
      "Observation: \u001b[36;1m\u001b[1;3mPage: Current Time TV\n",
      "Summary: Current Time TV (Russian: Настоящее Время, romanized: Nastoyashcheye Vremya) is a Russian-language television channel with editorial office in Prague, created by the US organisations Radio Free Europe/Radio Liberty and Voice of America. The channel – via RFE/RL – is funded through grants from the US Congress through the US Agency for Global Media. The media sees its task in \"promoting democratic values and institutions\". RFE/RL launched Current Time, in October 2014. The official round-the-clock broadcasting began on February 7, 2017.Current Time was instituted as an alternative to Kremlin-controlled media and Russian propaganda. Despite the fact that Current Time was intended to counterbalance Russian official news coverage, Kenan Aliyev, executive editor of Current Time, told Reuters that C.T. was not counterpropaganda at all.In December 2017 Russia's Ministry of Justice added the outlet to the so-called list of \"foreign agent\". It, alongside 8 other American public broadcasters, was the first mass media outlet to be included to the so-called list of \"foreign agents\".Current Time is available on cable, satellite and digital platforms in Russia, the Baltics, Belarus, Ukraine, the Caucasus and central Asia. It had over 1,500,000 followers on Facebook and  1,300,000 subscribers on YouTube in August 2020.On 27 February 2022, Roskomnadzor blocked the website of the channel for its coverage of the Russian invasion of Ukraine.\n",
      "\n",
      "Page: Constant current\n",
      "Summary: A constant current (steady current, time-independent current, stationary current) is a type of direct current (DC) that does not change its intensity with time.\n",
      "\n",
      "Page: Lists of time zones\n",
      "Summary: International:\n",
      "\n",
      "List of time zones by country – sorted by number of current time zones in the world\n",
      "List of UTC offsets – current UTC offsets\n",
      "List of time zone abbreviations – abbreviations\n",
      "List of tz database time zones – zones used by many computer systems as defined by IANA\n",
      "List of military time zonesCountry-specific:\n",
      "\n",
      "List of time zones by U.S. state\u001b[0m\n",
      "Thought:\u001b[32;1m\u001b[1;3m I now know the final answer.\n",
      "Final Answer: The current time is determined by the time zone in which you are located.\u001b[0m\n",
      "\n",
      "\u001b[1m> Finished chain.\u001b[0m\n"
     ]
    },
    {
     "data": {
      "text/plain": [
       "'The current time is determined by the time zone in which you are located.'"
      ]
     },
     "execution_count": 9,
     "metadata": {},
     "output_type": "execute_result"
    }
   ],
   "source": [
    "agent.run(\"What time is it now?\")"
   ]
  },
  {
   "cell_type": "code",
   "execution_count": 23,
   "id": "85189426-f4bb-4018-adcc-14fbdb444d36",
   "metadata": {},
   "outputs": [],
   "source": [
    " tools = tools +[get_time]"
   ]
  },
  {
   "cell_type": "code",
   "execution_count": 24,
   "id": "ffdfe861-3352-4e1c-8cbd-2c25e4d2f94d",
   "metadata": {},
   "outputs": [],
   "source": [
    "# dir(AgentType)"
   ]
  },
  {
   "cell_type": "code",
   "execution_count": 25,
   "id": "488d1642-e736-4fa5-9b08-3331c462b8b1",
   "metadata": {},
   "outputs": [],
   "source": [
    "agent = initialize_agent(tools, \n",
    "                         llm, \n",
    "                         agent=AgentType.ZERO_SHOT_REACT_DESCRIPTION, \n",
    "                         verbose=True)"
   ]
  },
  {
   "cell_type": "code",
   "execution_count": 26,
   "id": "5eced15f-3852-4be0-909f-a7d6e8bc9c4b",
   "metadata": {},
   "outputs": [
    {
     "name": "stdout",
     "output_type": "stream",
     "text": [
      "\n",
      "\n",
      "\u001b[1m> Entering new AgentExecutor chain...\u001b[0m\n",
      "\u001b[32;1m\u001b[1;3m I need to find out the current time.\n",
      "Action: get_time\n",
      "Action Input: \"\"\u001b[0m\n",
      "Observation: \u001b[38;5;200m\u001b[1;3m2023-12-05 14:33:02.959243\u001b[0m\n",
      "Thought:\u001b[32;1m\u001b[1;3m I now know the final answer.\n",
      "Final Answer: It is currently 2023-12-05 14:33:02.959243.\u001b[0m\n",
      "\n",
      "\u001b[1m> Finished chain.\u001b[0m\n"
     ]
    },
    {
     "data": {
      "text/plain": [
       "'It is currently 2023-12-05 14:33:02.959243.'"
      ]
     },
     "execution_count": 26,
     "metadata": {},
     "output_type": "execute_result"
    }
   ],
   "source": [
    "agent.run(\"What time is it now?\")"
   ]
  },
  {
   "cell_type": "code",
   "execution_count": null,
   "id": "3247717f-a68b-4d4b-9da9-abdc9fa37be1",
   "metadata": {},
   "outputs": [],
   "source": []
  }
 ],
 "metadata": {
  "kernelspec": {
   "display_name": "Python 3 (ipykernel)",
   "language": "python",
   "name": "python3"
  },
  "language_info": {
   "codemirror_mode": {
    "name": "ipython",
    "version": 3
   },
   "file_extension": ".py",
   "mimetype": "text/x-python",
   "name": "python",
   "nbconvert_exporter": "python",
   "pygments_lexer": "ipython3",
   "version": "3.11.5"
  }
 },
 "nbformat": 4,
 "nbformat_minor": 5
}
