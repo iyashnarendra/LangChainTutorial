{
 "cells": [
  {
   "cell_type": "markdown",
   "id": "728f1747-b8fc-4d31-96c2-047fc83c079d",
   "metadata": {},
   "source": [
    "#  Data Connections\n",
    "\n",
    "## Create a Chatbot for any Wikipedia topic\n",
    "\n",
    "* We will connect to the internet an get the wikipedia data of the topic of our choice\n",
    "* Split this into chunks (you choose the size) and Encode the chunks into embeddings\n",
    "* Write these embeddings to a ChromaDB Vector Store\n",
    "* Get respose of our query from LLM by providing it the wikipedia data as context - Do we need to provide all data as context?\n",
    "* Use Context Compression to return the relevant portion of the document to the question"
   ]
  },
  {
   "cell_type": "code",
   "execution_count": 3,
   "id": "3a17f111-e290-4ffc-b614-4d10e5673087",
   "metadata": {},
   "outputs": [],
   "source": [
    "from langchain.document_loaders import WikipediaLoader\n",
    "from langchain.text_splitter import CharacterTextSplitter\n",
    "from langchain.embeddings.openai import OpenAIEmbeddings\n",
    "# https://openai.com/blog/introducing-text-and-code-embeddings - OpenAI embeddings beat SOTA embeddings for multiple tasks like Similarity Search\n",
    "from langchain.vectorstores import Chroma\n",
    "from langchain.chat_models import ChatOpenAI\n",
    "from langchain.retrievers.multi_query import MultiQueryRetriever\n",
    "from langchain.retrievers import ContextualCompressionRetriever\n",
    "from langchain.retrievers.document_compressors import LLMChainExtractor \n",
    "from dotenv import load_dotenv, find_dotenv\n",
    "\n",
    "import os\n",
    "load_dotenv(find_dotenv(), override=True)\n",
    "api_key = os.getenv(\"OPENAI_API_KEY\")"
   ]
  },
  {
   "cell_type": "code",
   "execution_count": 69,
   "id": "dc7dafe9-7e3b-4bb5-abeb-4c99b66f623b",
   "metadata": {},
   "outputs": [],
   "source": [
    "def wiki_bot(topic,question):\n",
    "    # PART ONE:\n",
    "    # LOAD \n",
    "    loader = WikipediaLoader(query=topic,load_max_docs=10, doc_content_chars_max = 4000)\n",
    "    documents = loader.load()\n",
    "    \n",
    "    # PART TWO\n",
    "    # Split the document into chunks (you choose how and what size)\n",
    "    text_splitter = CharacterTextSplitter.from_tiktoken_encoder(chunk_size=500)\n",
    "    docs = text_splitter.split_documents(documents)\n",
    "    \n",
    "    # PART THREE\n",
    "    # EMBED THE Documents (now in chunks) to a persisted ChromaDB\n",
    "    embedding_function = OpenAIEmbeddings()\n",
    "    db = Chroma.from_documents(docs, embedding_function,persist_directory='./OpenAI')\n",
    "    db.persist()\n",
    "\n",
    "    # PART FOUR - \n",
    "    # Use ChatOpenAI and ContextualCompressionRetriever to return the most\n",
    "    # relevant part of the documents.\n",
    "    #Embeddings capture semantic relationships between items\n",
    "    \n",
    "    llm = ChatOpenAI(model_name=\"gpt-3.5-turbo\", temperature=0)\n",
    "    \n",
    "    retriever_from_llm = MultiQueryRetriever.from_llm(retriever=db.as_retriever(),llm=llm)\n",
    "    \n",
    "    compressor = LLMChainExtractor.from_llm(llm)\n",
    "    compression_retriever = ContextualCompressionRetriever(base_compressor=compressor, \n",
    "                                                           base_retriever=retriever_from_llm)\n",
    "\n",
    "    compressed_docs = compression_retriever.get_relevant_documents(question)\n",
    "\n",
    "    return compressed_docs[0].page_content"
   ]
  },
  {
   "cell_type": "code",
   "execution_count": 70,
   "id": "b6ca1a37-bc2f-49de-af25-22bc7437bff0",
   "metadata": {},
   "outputs": [
    {
     "name": "stderr",
     "output_type": "stream",
     "text": [
      "WARNING:langchain.text_splitter:Created a chunk of size 662, which is longer than the specified 500\n",
      "WARNING:langchain.text_splitter:Created a chunk of size 515, which is longer than the specified 500\n",
      "INFO:langchain.retrievers.multi_query:Generated queries: ['1. Can you provide details about the dispute between Sam Altman and the board of OpenAI?', '2. What were the main points of contention between Sam Altman and the board of OpenAI?', '3. Could you explain the controversy that arose between Sam Altman and the board of OpenAI?']\n",
      "C:\\Users\\yashnarendra\\AppData\\Local\\anaconda3\\Lib\\site-packages\\langchain\\chains\\llm.py:321: UserWarning: The predict_and_parse method is deprecated, instead pass an output parser directly to LLMChain.\n",
      "  warnings.warn(\n",
      "C:\\Users\\yashnarendra\\AppData\\Local\\anaconda3\\Lib\\site-packages\\langchain\\chains\\llm.py:321: UserWarning: The predict_and_parse method is deprecated, instead pass an output parser directly to LLMChain.\n",
      "  warnings.warn(\n",
      "C:\\Users\\yashnarendra\\AppData\\Local\\anaconda3\\Lib\\site-packages\\langchain\\chains\\llm.py:321: UserWarning: The predict_and_parse method is deprecated, instead pass an output parser directly to LLMChain.\n",
      "  warnings.warn(\n",
      "C:\\Users\\yashnarendra\\AppData\\Local\\anaconda3\\Lib\\site-packages\\langchain\\chains\\llm.py:321: UserWarning: The predict_and_parse method is deprecated, instead pass an output parser directly to LLMChain.\n",
      "  warnings.warn(\n",
      "C:\\Users\\yashnarendra\\AppData\\Local\\anaconda3\\Lib\\site-packages\\langchain\\chains\\llm.py:321: UserWarning: The predict_and_parse method is deprecated, instead pass an output parser directly to LLMChain.\n",
      "  warnings.warn(\n"
     ]
    },
    {
     "name": "stdout",
     "output_type": "stream",
     "text": [
      "The board announced that it had made the decision to remove Altman as CEO. The board said that Altman \"was not consistently candid in his communications.\"\n"
     ]
    }
   ],
   "source": [
    "print(wiki_bot(\"OpenAI\", \"What was the contorversy between Sam Altman and the board of OpenAI\"))"
   ]
  },
  {
   "cell_type": "markdown",
   "id": "85651312",
   "metadata": {},
   "source": [
    "### Behind the Scenes"
   ]
  },
  {
   "cell_type": "code",
   "execution_count": 45,
   "id": "12641442",
   "metadata": {},
   "outputs": [
    {
     "name": "stdout",
     "output_type": "stream",
     "text": [
      "[Document(page_content='OpenAI is an American artificial intelligence (AI) research organization consisting of the non-profit OpenAI, Inc. registered in Delaware and its for-profit subsidiary OpenAI Global, LLC. OpenAI researches artificial intelligence with the declared intention of developing \"safe and beneficial\" artificial general intelligence, which it defines as \"highly autonomous systems that outperform humans at most economically valuable work\". OpenAI has also developed several large language models, such as ChatGPT and GPT-4, as well as advanced image generation models like DALL-E 3, and in the past published open-source models.The organization was founded in December 2015 by Ilya Sutskever, Greg Brockman, Trevor Blackwell, Vicki Cheung, Andrej Karpathy, Durk Kingma, Jessica Livingston, John Schulman, Pamela Vagata, and Wojciech Zaremba, with Sam Altman and Elon Musk serving as the initial board members. Microsoft provided OpenAI Global LLC with a $1 billion investment in 2019 and a $10 billion investment in 2023.On November 17, 2023, the board removed Altman as CEO, while Brockman was removed as chairman and then resigned as president. Four days later, both returned after negotiations with the board, and most of the board members resigned. The new initial board included former Salesforce co-CEO Bret Taylor as chairman.\\n\\n\\n== History ==\\n\\n\\n=== 2015–2018: Non-profit beginnings ===\\nIn December 2015, Sam Altman, Greg Brockman, Reid Hoffman, Jessica Livingston, Peter Thiel, Elon Musk, Amazon Web Services (AWS), Infosys, and YC Research announced the formation of OpenAI and pledged over $1 billion to the venture. The actual collected total amount of contributions was only $130 million until 2019. According to an investigation led by TechCrunch, Musk was its largest donor while YC Research did not contribute anything at all. The organization stated it would \"freely collaborate\" with other institutions and researchers by making its patents and research open to the public. OpenAI is headquartered at the Pioneer Building in Mission District, San Francisco.According to Wired, Brockman met with Yoshua Bengio, one of the \"founding fathers\" of deep learning, and drew up a list of the \"best researchers in the field\". Brockman was able to hire nine of them as the first employees in December 2015. In 2016, OpenAI paid corporate-level (rather than nonprofit-level) salaries, but did not pay AI researchers salaries comparable to those of Facebook or Google.Microsoft\\'s Peter Lee stated that the cost of a top AI researcher exceeds the cost of a top NFL quarterback prospect. OpenAI\\'s potential and mission drew these researchers to the firm; a Google employee said he was willing to leave Google for OpenAI \"partly because of the very strong group of people and, to a very large extent, because of its mission.\" Brockman stated that \"the best thing that I could imagine doing was moving humanity closer to building real AI in a safe way.\" OpenAI co-founder Wojciech Zaremba stated that he turned down \"borderline crazy\" offers of two to three times his market value to join OpenAI instead.In April 2016, OpenAI released a public beta of \"OpenAI Gym\", its platform for reinforcement learning research. Nvidia gifted its first DGX-1 supercomputer to OpenAI in August 2016 to help it train larger and more complex AI models with the capability of reducing processing time from six days to two hours. In December 2016, OpenAI released \"Universe\", a software platform for measuring and training an AI\\'s general intelligence across the world\\'s supply of games, websites, and other applications.In 2017 OpenAI spent $7.9 million, or a quarter of its functional expenses, on cloud computing alone. In comparison, DeepMind\\'s total expenses in 2017 were $442 million. In the summer of 2018, simply training OpenAI\\'s Dota 2 bots required renting 128,000 CPUs and 256 GPUs from Google for multiple weeks.\\nIn 2018, Musk resigned from his board seat, citing \"a potential future conflict [of interest]\" with his role as CEO of Tesla due to Tesla\\'s AI development for self-driving cars. Sam Altman claims that Musk believed OpenAI had fallen behind other players like Google and Musk proposed instead to take over OpenAI himself, which the board rejected. Musk subsequently left OpenAI but claimed to remain a donor, yet made no donations after his departure.In February 2019, GPT-2 was announced, which got a lot of attention for its ability to generate human-like text.\\n\\n\\n=== 2019: Transition from non-profit ===\\nIn 2019, OpenAI transitioned from non-profit to \"capped\" for-profit, with the profit being capped at 100 times any investment. According to OpenAI, the capped-profit model allows OpenAI Global LLC to legally attract investment from venture funds and, in addition, to grant employees stakes in the company. Many top researchers work for Google Brain, DeepMind, or Facebook , which offer stock options that a nonprofit would be unable to. Before the transition, public disclosure of the compens', metadata={'title': 'OpenAI', 'summary': 'OpenAI is an American artificial intelligence (AI) research organization consisting of the non-profit OpenAI, Inc. registered in Delaware and its for-profit subsidiary OpenAI Global, LLC. OpenAI researches artificial intelligence with the declared intention of developing \"safe and beneficial\" artificial general intelligence, which it defines as \"highly autonomous systems that outperform humans at most economically valuable work\". OpenAI has also developed several large language models, such as ChatGPT and GPT-4, as well as advanced image generation models like DALL-E 3, and in the past published open-source models.The organization was founded in December 2015 by Ilya Sutskever, Greg Brockman, Trevor Blackwell, Vicki Cheung, Andrej Karpathy, Durk Kingma, Jessica Livingston, John Schulman, Pamela Vagata, and Wojciech Zaremba, with Sam Altman and Elon Musk serving as the initial board members. Microsoft provided OpenAI Global LLC with a $1 billion investment in 2019 and a $10 billion investment in 2023.On November 17, 2023, the board removed Altman as CEO, while Brockman was removed as chairman and then resigned as president. Four days later, both returned after negotiations with the board, and most of the board members resigned. The new initial board included former Salesforce co-CEO Bret Taylor as chairman.', 'source': 'https://en.wikipedia.org/wiki/OpenAI'}), Document(page_content='OpenAI Codex is an artificial intelligence model developed by OpenAI. It parses natural language and generates code in response. It powers GitHub Copilot, a programming autocompletion tool for select IDEs, like Visual Studio Code and Neovim. Codex is a descendant of OpenAI\\'s GPT-3 model, fine-tuned for use in programming applications.\\nOpenAI released an API for Codex in closed beta. In March 2023, OpenAI shut down access to Codex. Due to public appeals from researchers, OpenAI reversed course. The Codex model can still be used by researchers of the OpenAI Research Access Program.\\n\\n\\n== Capabilities ==\\nBased on GPT-3, a neural network trained on text, Codex was additionally trained on 159 gigabytes of Python code from 54 million GitHub repositories. A typical use case of Codex is for a user to type a comment, such as \"//compute the moving average of an array for a given window size\", then use the AI to suggest a block of code that satisfies that comment prompt. OpenAI stated that Codex can complete approximately 37% of requests and is meant to make human programming faster rather than to replace it. According to OpenAI\\'s blog, Codex excels most at \"mapping... simple problems to existing code\", which they describe as \"probably the least fun part of programming\". Jeremy Howard, co-founder of Fast.ai, stated that \"Codex is a way of getting code written without having to write as much code\", and that \"it is not always correct, but it is just close enough\". According to a paper written by OpenAI researchers, when Codex attempted each test case 100 times, it generated working solutions for 70.2% of prompts.OpenAI claims that Codex can create code in over a dozen programming languages, including Go, JavaScript, Perl, PHP, Ruby, Shell, Swift, and TypeScript, though it is most effective in Python. According to VentureBeat, demonstrations uploaded by OpenAI showed impressive coreference resolution capabilities. The demonstrators were able to create a browser game in JavaScript and generate data science charts using matplotlib.OpenAI showed that Codex can interface with services and apps such as Mailchimp, Microsoft Word, Spotify, and Google Calendar. Microsoft is reportedly interested in exploring Codex\\'s capabilities.\\n\\n\\n== Issues ==\\nOpenAI demonstrations showcased flaws such as inefficient code and one-off quirks in code samples. In an interview with The Verge, OpenAI chief technology officer Greg Brockman said that \"sometimes [Codex] doesn\\'t quite know exactly what you\\'re asking\" and that it can require some trial and error. OpenAI researchers found that Codex struggles with multi-step and higher-level prompts, often failing or yielding counter-intuitive behavior. Additionally, they brought up several safety issues, such as over-reliance by novice programmers, biases based on the training data, and security impacts due to vulnerable code.VentureBeat stated that because Codex is trained on public data, it could be vulnerable to \"data poisoning\" via intentional uploads of malicious code. According to a study by researchers from New York University, approximately 40% of code generated by GitHub Copilot (which uses Codex) in scenarios relevant to high-risk CWEs included glitches or other exploitable design flaws.\\n\\n\\n=== Copyright ===\\nThe Free Software Foundation expressed concerns that code snippets generated by Copilot and Codex could violate copyright, in particular the condition of the GPL that requires derivative works to be licensed under equivalent terms. Issues they raised include whether training on public repositories falls into fair use or not, how developers could discover infringing generated code, whether trained machine learning models could be considered modifiable source code or a compilation of the training data, and if machine learning models could themselves be copyrighted and by whom. An internal GitHub study found that approximately 0.1% of generated code contained direct copies from the training data. In one example the model outputted the training data code implementing the fast inverse square root algorithm, including comments and an incorrect copyright notice.In response, OpenAI stated that \"legal uncertainty on the copyright implications of training AI systems imposes substantial costs on AI developers and so should be authoritatively resolved.\"The copyright issues with Codex have been compared to the Authors Guild, Inc. v. Google, Inc. court case, in which judges ruled that Google Books\\'s use of text snippets from millions of scanned books constituted fair use. However, use of text snippets from books provides for a reliable reference of the copyright owner, as opposed to compiled works used for the training algorithm data where the final output is made without any such reference.\\n\\n\\n== References ==', metadata={'title': 'OpenAI Codex', 'summary': \"OpenAI Codex is an artificial intelligence model developed by OpenAI. It parses natural language and generates code in response. It powers GitHub Copilot, a programming autocompletion tool for select IDEs, like Visual Studio Code and Neovim. Codex is a descendant of OpenAI's GPT-3 model, fine-tuned for use in programming applications.\\nOpenAI released an API for Codex in closed beta. In March 2023, OpenAI shut down access to Codex. Due to public appeals from researchers, OpenAI reversed course. The Codex model can still be used by researchers of the OpenAI Research Access Program.\", 'source': 'https://en.wikipedia.org/wiki/OpenAI_Codex'}), Document(page_content='OpenAI Five is a computer program by OpenAI that plays the five-on-five video game Dota 2. Its first public appearance occurred in 2017, where it was demonstrated in a live one-on-one game against the professional player Dendi, who lost to it. The following year, the system had advanced to the point of performing as a full team of five, and began playing against and showing the capability to defeat professional teams.\\nBy choosing a game as complex as Dota 2 to study machine learning, OpenAI thought they could more accurately capture the unpredictability and continuity seen in the real world, thus constructing more general problem-solving systems. The algorithms and code used by OpenAI Five were eventually borrowed by another neural network in development by the company, one which controlled a physical robotic hand. OpenAI Five has been compared to other similar cases of artificial intelligence (AI) playing against and defeating humans, such as AlphaStar in the video game StarCraft II, AlphaGo in the board game Go, Deep Blue in chess, and Watson on the television game show Jeopardy!.\\n\\n\\n== History ==\\nDevelopment on the algorithms used for the bots began in November 2016. OpenAI decided to use Dota 2, a competitive five-on-five video game, as a base due to it being popular on the live streaming platform Twitch, having native support for Linux, and had an application programming interface (API) available. Before becoming a team of five, the first public demonstration occurred at The International 2017 in August, the annual premiere championship tournament for the game, where Dendi, a professional Ukrainian player of the game, lost against an OpenAI bot in a live one-on-one matchup. After the match, CTO Greg Brockman explained that the bot had learned by playing against itself for two weeks of real time, and that the learning software was a step in the direction of creating software that can handle complex tasks \"like being a surgeon\". OpenAI used a methodology called reinforcement learning, as the bots learn over time by playing against itself hundreds of times a day for months, in which they are rewarded for actions such as killing an enemy and destroying towers.By June 2018, the ability of the bots expanded to play together as a full team of five and were able to defeat teams of amateur and semi-professional players. At The International 2018, OpenAI Five played in two games against professional teams, one against the Brazilian-based paiN Gaming and the other against an all-star team of former Chinese players. Although the bots lost both matches, OpenAI still considered it a successful venture, stating that playing against some of the best players in Dota 2 allowed them to analyze and adjust their algorithms for future games. The bots\\' final public demonstration occurred in April 2019, where they won a best-of-three series against The International 2018 champions OG at a live event in San Francisco. A four-day online event to play against the bots, open to the public, occurred the same month. There, the bots played in 42,729 public games, winning 99.4% of those games.\\n\\n\\n== Architecture ==\\nEach OpenAI Five bot is a neural network containing a single layer with a 4096-unit LSTM that observes  the current game state extracted from the Dota developer\\'s API. The neural network conducts actions via numerous possible action heads (no human data involved), and every head has meaning. For instance, the number of ticks to delay an action, what action to select – the X or Y coordinate of this action in a grid around the unit. In addition, action heads are computed independently. The AI system observes the world as a list of 20,000 numbers and takes an action by conducting a list of eight enumeration values. Also, it selects different actions and targets to understand how to encode every action and observe the world.OpenAI Five has been developed as a general-purpose reinforcement learning training system on the \"Rapid\" infrastructure. Rapid consists of two layers: it spins up thousands of machines and helps them ‘talk’ to each other and a second layer runs software. By 2018, OpenAI Five had played around 180 years worth of games in reinforcement learning running on 256 GPUs and 128,000 CPU cores, using Proximal Policy Optimization, a policy gradient method.\\n\\n\\n== Comparisons with other game AI systems ==\\nPrior to OpenAI Five, other AI versus human experiments and systems have been successfully used before, such as Jeopardy! with Watson, chess with Deep Blue, and Go with AlphaGo. In comparison with other games that have used AI systems to play against human players, Dota 2 differs as explained below:Long run view: The bots run at 30 frames per second for an average match time of 45 minutes, which results in 80,000 ticks per game. OpenAI Five observes every fourth frame, generating 20,000 moves. By comparison, chess usually ends before 40 moves, while Go ends before 150 moves.\\nPartially observed state of the game: Players ', metadata={'title': 'OpenAI Five', 'summary': 'OpenAI Five is a computer program by OpenAI that plays the five-on-five video game Dota 2. Its first public appearance occurred in 2017, where it was demonstrated in a live one-on-one game against the professional player Dendi, who lost to it. The following year, the system had advanced to the point of performing as a full team of five, and began playing against and showing the capability to defeat professional teams.\\nBy choosing a game as complex as Dota 2 to study machine learning, OpenAI thought they could more accurately capture the unpredictability and continuity seen in the real world, thus constructing more general problem-solving systems. The algorithms and code used by OpenAI Five were eventually borrowed by another neural network in development by the company, one which controlled a physical robotic hand. OpenAI Five has been compared to other similar cases of artificial intelligence (AI) playing against and defeating humans, such as AlphaStar in the video game StarCraft II, AlphaGo in the board game Go, Deep Blue in chess, and Watson on the television game show Jeopardy!.', 'source': 'https://en.wikipedia.org/wiki/OpenAI_Five'}), Document(page_content='ChatGPT (Chat Generative Pre-trained Transformer) is a large language model-based chatbot developed by OpenAI and launched on November 30, 2022, that enables users to refine and steer a conversation towards a desired length, format, style, level of detail, and language. Successive prompts and replies, known as prompt engineering, are considered at each conversation stage as a context.ChatGPT is built upon either GPT-3.5 or GPT-4—members of OpenAI\\'s proprietary series of generative pre-trained transformer (GPT) models, based on the transformer architecture developed by Google—and is fine-tuned for conversational applications using a combination of supervised and reinforcement learning techniques. ChatGPT was released as a freely available research preview, but due to its popularity, OpenAI now operates the service on a freemium model. It allows users on its free tier to access the GPT-3.5-based version. In contrast, the more advanced GPT-4-based version and priority access to newer features are provided to paid subscribers under the commercial name \"ChatGPT Plus\".\\nBy January 2023, it had become what was then the fastest-growing consumer software application in history, gaining over 100 million users and contributing to OpenAI\\'s valuation growing to $29 billion. ChatGPT\\'s release spurred the development of competing products, including Bard, Ernie Bot, LLaMA, Claude, and Grok. Microsoft launched its Bing Chat based on OpenAI\\'s GPT-4. It raised concern among some observers over the potential of ChatGPT and similar programs to displace or atrophy human intelligence, enable plagiarism, or fuel misinformation.\\n\\n\\n== Training ==\\nChatGPT is based on particular GPT foundation models, namely GPT-3.5 and GPT-4, that were fine-tuned to target conversational usage. The fine-tuning process leveraged both supervised learning as well as reinforcement learning in a process called reinforcement learning from human feedback (RLHF). Both approaches employed human trainers to improve model performance. In the case of supervised learning, the trainers played both sides: the user and the AI assistant. In the reinforcement learning stage, human trainers first ranked responses that the model had created in a previous conversation. These rankings were used to create \"reward models\" that were used to fine-tune the model further by using several iterations of Proximal Policy Optimization (PPO).Time magazine revealed that to build a safety system against harmful content (e.g. sexual abuse, violence, racism, sexism), OpenAI used outsourced Kenyan workers earning less than $2 per hour to label harmful content. These labels were used to train a model to detect such content in the future. The outsourced laborers were exposed to \"toxic\" and traumatic content; one worker described the assignment as \"torture\". OpenAI\\'s outsourcing partner was Sama, a training-data company based in San Francisco, California.ChatGPT initially used a Microsoft Azure supercomputing infrastructure, powered by Nvidia GPUs, that Microsoft built specifically for OpenAI and that reportedly cost \"hundreds of millions of dollars\". Following ChatGPT\\'s success, Microsoft dramatically upgraded the OpenAI infrastructure in 2023. Scientists of University of California, Riverside, estimate that a series of prompts to ChatGPT needs approximately 500 milliliters of water for Microsoft servers cooling. TrendForce market intelligence estimated that 30,000 Nvidia GPUs (each costing approximately $30,000) were used to power ChatGPT in 2023.OpenAI collects data from ChatGPT users to train and fine-tune the service further. Users can upvote or downvote responses they receive from ChatGPT and fill in a text field with additional feedback.ChatGPT\\'s training data includes software manual pages, information about internet phenomena such as bulletin board systems, and multiple programming languages. Wikipedia was also one of the sources of ChatGPT\\'s training data.\\n\\n\\n== Features and limitations ==\\n\\n\\n=== Features ===\\nAlthough a chatbot\\'s core function is to mimic a human conversationalist, ChatGPT is versatile. Among countless examples, it can write and debug computer programs; compose music, teleplays, fairy tales, and student essays; answer test questions (sometimes, depending on the test, at a level above the average human test-taker); generate business ideas; write poetry and song lyrics; translate and summarize text; emulate a Linux system; simulate entire chat rooms; play games like tic-tac-toe; or simulate an ATM.Compared to its predecessor, InstructGPT, ChatGPT attempts to reduce harmful and deceitful responses. In one example, whereas InstructGPT accepts the premise of the prompt \"Tell me about when Christopher Columbus came to the U.S. in 2015\" as truthful, ChatGPT acknowledges the counterfactual nature of the question and frames its answer as a hypothetical consideration of what might happen if Columbus came to the U.S. in 2015, using information about the voyages of Christopher C', metadata={'title': 'ChatGPT', 'summary': 'ChatGPT (Chat Generative Pre-trained Transformer) is a large language model-based chatbot developed by OpenAI and launched on November 30, 2022, that enables users to refine and steer a conversation towards a desired length, format, style, level of detail, and language. Successive prompts and replies, known as prompt engineering, are considered at each conversation stage as a context.ChatGPT is built upon either GPT-3.5 or GPT-4—members of OpenAI\\'s proprietary series of generative pre-trained transformer (GPT) models, based on the transformer architecture developed by Google—and is fine-tuned for conversational applications using a combination of supervised and reinforcement learning techniques. ChatGPT was released as a freely available research preview, but due to its popularity, OpenAI now operates the service on a freemium model. It allows users on its free tier to access the GPT-3.5-based version. In contrast, the more advanced GPT-4-based version and priority access to newer features are provided to paid subscribers under the commercial name \"ChatGPT Plus\".\\nBy January 2023, it had become what was then the fastest-growing consumer software application in history, gaining over 100 million users and contributing to OpenAI\\'s valuation growing to $29 billion. ChatGPT\\'s release spurred the development of competing products, including Bard, Ernie Bot, LLaMA, Claude, and Grok. Microsoft launched its Bing Chat based on OpenAI\\'s GPT-4. It raised concern among some observers over the potential of ChatGPT and similar programs to displace or atrophy human intelligence, enable plagiarism, or fuel misinformation.', 'source': 'https://en.wikipedia.org/wiki/ChatGPT'}), Document(page_content=\"Greg Brockman (born 1988 or 1989) is an American entrepreneur, investor and software developer who is a co-founder and currently the president of OpenAI. He began his career at Stripe in 2010, upon leaving MIT, and became their CTO in 2013. He left Stripe in 2015 to co-found OpenAI, where he also assumed the role of CTO.\\n\\n\\n== Early life and education ==\\nBrockman was born in Thompson, North Dakota, and attended Red River High School, where he excelled in mathematics, chemistry, and computer science. He won a silver medal in the 2006 International Chemistry Olympiad and became the first finalist from North Dakota to participate in the Intel science talent search since 1973. In 2007, he attended Canada/USA Mathcamp, a summer program for mathematically talented high-school students. In 2008, Brockman enrolled in Harvard University, but left only a year later, before briefly enrolling at Massachusetts Institute of Technology.\\n\\n\\n== Career ==\\nIn 2010, he dropped out of MIT to join Stripe, Inc., a company founded by Patrick Collison, an MIT classmate, and his brother, John Collison. In 2013, he became Stripe's first-ever CTO, and grew the company from 5 to 205 employees. Brockman left Stripe in May 2015, and co-founded OpenAI in December 2015 with Sam Altman and Ilya Sutskever.Brockman helped create the OpenAI founding team, and led various prominent projects early on at OpenAI, including OpenAI Gym and OpenAI Five, a Dota 2 bot.On February 14, 2019, OpenAI announced that they had developed a new large language model called GPT-2, but kept it private due to their concern for its potential misuse. They finally released the model to a limited group of beta testers in May 2019.On March 14, 2023, in a live video demo, Brockman unveiled GPT-4, the fourth iteration in the GPT series, and the newest language model created by OpenAI.On November 17, 2023, along with the firing of Sam Altman from OpenAI, Greg Brockman was told he was being removed from the board, but was vital to the company and would remain in his role at the company, reporting to the CEO. He later in the day announced on X (formerly known as Twitter) he had quit the company.On November 20, 2023, Microsoft CEO Satya Nadella announced that Brockman and former OpenAI CEO Sam Altman would join Microsoft to lead a new advanced AI research team. The following day, after a deal was reached to reinstate Altman as CEO, Brockman returned to OpenAI.\\n\\n\\n== Personal life ==\\nIn November 2019, Brockman married his girlfriend, Anna.\\n\\n\\n== References ==\", metadata={'title': 'Greg Brockman', 'summary': 'Greg Brockman (born 1988 or 1989) is an American entrepreneur, investor and software developer who is a co-founder and currently the president of OpenAI. He began his career at Stripe in 2010, upon leaving MIT, and became their CTO in 2013. He left Stripe in 2015 to co-found OpenAI, where he also assumed the role of CTO.', 'source': 'https://en.wikipedia.org/wiki/Greg_Brockman'}), Document(page_content=\"Mira Murati (born 16 December 1988) is an Albanian engineer and business manager who has been serving as chief technology officer of OpenAI since 2018.She briefly served as  interim chief executive officer of OpenAI from 17 to 20 November 2023.\\n\\n\\n== Early life and education ==\\nMurati was born on 16 December 1988 in Vlorë, Albania. At the age of 16, Murati went to high school at the Pearson United World College of the Pacific on Vancouver Island, British Columbia, Canada, from which she graduated in 2005. For her undergraduate education, Murati attended Colby College and Dartmouth College.\\n\\n\\n== Career ==\\nMurati previously worked at electric car company Tesla and augmented reality start-up Leap Motion. She then joined OpenAI in 2018, later becoming its chief technology officer, leading the company's work on ChatGPT, Dall-E, and Codex, and overseeing the company's research, product and safety teams. On 17 November 2023, Murati took over as interim chief executive officer of OpenAI, following the abrupt removal of Sam Altman. She was replaced by Emmett Shear three days later on 20 November 2023, who was in turn replaced by Altman, who was reinstated five days after being ousted.\\n\\n\\n== References ==\\n\\n\\n== External links ==\\nMira Murati on Twitter\", metadata={'title': 'Mira Murati', 'summary': 'Mira Murati (born 16 December 1988) is an Albanian engineer and business manager who has been serving as chief technology officer of OpenAI since 2018.She briefly served as  interim chief executive officer of OpenAI from 17 to 20 November 2023.', 'source': 'https://en.wikipedia.org/wiki/Mira_Murati'}), Document(page_content='Samuel Harris Altman ( AWLT-mən; born April 22, 1985) is an American entrepreneur and investor, who has been the chief executive officer of OpenAI since 2019 (being briefly fired in November 2023). Prior to OpenAI, Altman was president of Y Combinator from 2014 until he was fired by Paul Graham in 2019.\\n\\n\\n== Early life and education ==\\nSamuel Harris Altman was born on April 22, 1985, in Chicago, Illinois, into a Jewish family, and grew up in St. Louis, Missouri. His mother is a dermatologist. At the age of eight he received his first computer, an Apple Macintosh. Altman\\'s \"childhood idol\" was Steve Jobs. He attended John Burroughs School, a private school in Ladue, Missouri. In 2005, after one year at Stanford University studying computer science, he dropped out without earning a bachelor\\'s degree.\\n\\n\\n== Career ==\\nIn 2005, at the age of 19, Altman co-founded Loopt, a location-based social networking mobile application. As CEO, Altman raised more than $30 million in venture capital for the company; however, Loopt failed to gain traction with enough users. In March 2012, it was acquired by the Green Dot Corporation for $43.4 million. The following month, Altman co-founded Hydrazine Capital with his brother, Jack Altman. Altman got scurvy during his work on Loopt.Altman became a partner at Y Combinator in 2011, initially working there on a part-time basis. In February 2014, Altman was named president of Y Combinator by its co-founder, Paul Graham. In a 2014 blog post, Altman said that the total valuation of Y Combinator companies had surpassed $65 billion, including Airbnb, Dropbox, Zenefits, and Stripe. In September 2016, Altman announced his expanded role as president of YC Group, which included Y Combinator and other units. Altman said that he hoped to expand Y Combinator to fund 1,000 new companies per year. He also tried to expand the types of companies funded by YC, especially \"hard technology\" companies. In October 2015, Altman announced YC Continuity, a $700 million equity fund investing in YC companies as they matured. A week earlier, Altman had introduced Y Combinator Research, a non-profit research lab, and donated $10 million to fund it. YC Research has thus far announced research on basic income, the future of computing, education, and building new cities. In March 2019, YC announced Altman\\'s transition from the president of the company to a less hands-on role as Chairman of the Board, for him to focus on OpenAI. This decision came shortly after YC announced it would be moving its headquarters to San Francisco. As of early 2020, he was no longer affiliated with YC.Altman co-founded Tools For Humanity in 2019, a company building a global iris-based biometric system using cryptocurrency, called Worldcoin. Worldcoin aims to provide a reliable way to authenticate humans online, to counter bots and fake virtual identities facilitated by artificial intelligence. Using a distribution mechanism for its cryptocurrency similar to UBI, Worldcoin attempts to incentivize users to join its network by getting their iris scanned using Worldcoin\\'s orb-shaped iris scanner.\\n\\n\\n==== OpenAI ====\\nOpenAI was initially funded by Altman, Greg Brockman, Elon Musk, Jessica Livingston, Peter Thiel, Microsoft, Amazon Web Services, Infosys, and YC Research. When OpenAI launched in 2015, it had raised $1 billion. In March 2019, Sam Altman left Y Combinator to focus full-time on OpenAI as CEO. By the summer of 2019, he had helped raise $1 billion from Microsoft. Altman testified before the United States Senate Judiciary Subcommittee on Privacy, Technology and the Law on 16 May 2023 about issues of AI oversight. On November 17, 2023, OpenAI\\'s board announced that it had made the decision to remove Altman as CEO. The board said that Altman \"was not consistently candid in his communications.\"The Verge reported that a day after Altman was removed, the board was in discussion to bring him back. It has also been said that before Altman was removed, he was telling investors that he was planning to start a new company. On November 20, Microsoft CEO Satya Nadella announced that Altman would be joining Microsoft to lead a new advanced AI research team. Two days later, OpenAI announced that Altman was returning as CEO, and that its board had been reconstituted.\\n\\n\\n=== Other endeavors ===\\nAltman was the CEO of Reddit for eight days in 2014 after CEO Yishan Wong resigned. He announced the return of Steve Huffman as CEO on July 10, 2015. During the COVID-19 pandemic, Altman helped fund and create Project Covalence to help researchers rapidly launch clinical trials in partnership with TrialSpark, a clinical trial startup. During the depositor run on Silicon Valley Bank in mid-March 2023, Altman provided capital to multiple startups. Altman invests in technology startups and nuclear energy companies. Some of his portfolio companies include Airbnb, Stripe and Retro Biosciences. He is also chairman of the board for Helion, a company focused on devel', metadata={'title': 'Sam Altman', 'summary': 'Samuel Harris Altman ( AWLT-mən; born April 22, 1985) is an American entrepreneur and investor, who has been the chief executive officer of OpenAI since 2019 (being briefly fired in November 2023). Prior to OpenAI, Altman was president of Y Combinator from 2014 until he was fired by Paul Graham in 2019.', 'source': 'https://en.wikipedia.org/wiki/Sam_Altman'}), Document(page_content='Ilya Sutskever  (Hebrew: איליה סוצקבר; Russian: Илья Суцкевер; /ilja su:ʦkɪvər/ born 1985/86) is a computer scientist working in machine learning, who co-founded and served as board member and Chief Scientist of OpenAI.He has made several major contributions to the field of deep learning. He is the co-inventor, with Alex Krizhevsky and Geoffrey Hinton, of AlexNet, a convolutional neural network. Sutskever is also one of the many co-authors of the AlphaGo paper.\\n\\n\\n== Early life and education ==\\nSutskever was born in Nizhny Novgorod, Russia, then called Gorky, at the time part of the Soviet Union, and at age 5 immigrated with his family to Israel. He spent his formative years in Jerusalem.Sutskever attended the Open University of Israel between 2000 and 2002. After that, he moved to Canada with his family and transferred to the University of Toronto in Ontario.\\nFrom the University of Toronto, Sutskever received a Bachelor of Science in mathematics in 2005, a Master of Science in computer science in 2007, and a Doctor of Philosophy in computer science in 2013. His doctoral supervisor was Geoffrey Hinton.In 2012, Sutskever built AlexNet in collaboration with Hinton and Alex Krizhevsky. To support the computing demands of AlexNet, Sutskever bought many GTX 580 GPUs online.\\n\\n\\n== Career and research ==\\nFrom November to December 2012, Sutskever spent about two months as a postdoc with Andrew Ng at Stanford University. He then returned to the University of Toronto and joined Hinton\\'s new research company DNNResearch, a spinoff of Hinton\\'s research group. Four months later, in March 2013, Google acquired DNNResearch and hired Sutskever as a research scientist at Google Brain.At Google Brain, Sutskever worked with Oriol Vinyals and Quoc Viet Le to create the sequence-to-sequence learning algorithm, and worked on TensorFlow.At the end of 2015, he left Google to become cofounder and chief scientist of the newly founded organization OpenAI.In 2023, he announced that he will co-lead OpenAI\\'s new \"Superalignment\" project, which tries to solve the alignment of superintelligences in 4 years. He wrote that even if superintelligence seems far off, it could happen this decade.Sutskever was formerly one of the six board members of the non-profit entity which controls OpenAI. The Information speculated that the firing of Sam Altman in part resulted from a conflict over the extent to which the company should commit to AI safety. In a company all-hands shortly after the board meeting, Sutskever stated that firing Altman was \"the board doing its duty\", though in the following week, he expressed regret at having participated in Altman\\'s ousting. The firing of Altman and resignation of Brockman led to resignation of 3 senior researchers from OpenAI. Following these events, Sutskever stepped down from the board of OpenAI.\\n\\n\\n=== Awards and honours ===\\n2015, Sutskever was named in MIT Technology Review\\'s 35 Innovators Under 35.\\n2018, Sutskever was the keynote speaker at Nvidia Ntech 2018 and AI Frontiers Conference 2018.\\n2022, he was elected a Fellow of the Royal Society (FRS).\\n\\n\\n== References ==', metadata={'title': 'Ilya Sutskever', 'summary': 'Ilya Sutskever  (Hebrew: איליה סוצקבר; Russian: Илья Суцкевер; /ilja su:ʦkɪvər/ born 1985/86) is a computer scientist working in machine learning, who co-founded and served as board member and Chief Scientist of OpenAI.He has made several major contributions to the field of deep learning. He is the co-inventor, with Alex Krizhevsky and Geoffrey Hinton, of AlexNet, a convolutional neural network. Sutskever is also one of the many co-authors of the AlphaGo paper.', 'source': 'https://en.wikipedia.org/wiki/Ilya_Sutskever'}), Document(page_content='An artificial general intelligence (AGI) is a hypothetical type of intelligent agent. If realized, an AGI could learn to accomplish any intellectual task that human beings or animals can perform. Alternatively, AGI has been defined as an autonomous system that surpasses human capabilities in the majority of economically valuable tasks. Creating AGI is a primary goal of some artificial intelligence research and of companies such as OpenAI, DeepMind, and Anthropic. AGI is a common topic in science fiction and futures studies.\\nThe timeline for AGI development remains a subject of ongoing debate among researchers and experts. Some argue that it may be possible in years or decades; others maintain it might take a century or longer; and a minority believe it may never be achieved. Additionally, there is debate regarding whether modern large language models, such as GPT-3, are early yet incomplete forms of AGI or if new approaches are required.Contention exists over the potential for AGI to pose a threat to humanity; for example, OpenAI treats it as an existential risk, while others find the development of AGI to be too remote to present a risk.A 2020 survey identified 72 active AGI R&D projects spread across 37 countries.\\n\\n\\n== Terminology ==\\nAGI is also known as strong AI, full AI, human-level AI or general intelligent action. However, some academic sources reserve the term \"strong AI\" for computer programs that experience sentience or consciousness. In contrast, weak AI (or narrow AI) is able to solve one specific problem, but lacks general cognitive abilities. Some academic sources use \"weak AI\" to refer more broadly to any programs that neither experience consciousness nor have a mind in the same sense as humans.Related concepts include artificial superintelligence and transformative AI. An artificial superintelligence (ASI) is a hypothetical type of AGI that is much more generally intelligent than humans. And the notion of transformative AI relates to AI having a large impact on society, for example similar to the agricultural revolution.\\n\\n\\n== Characteristics ==\\n\\nVarious criteria for intelligence have been proposed (most famously the Turing test) but no definition is broadly accepted.\\n\\n\\n=== Intelligence traits ===\\nHowever, researchers generally hold that intelligence is required to do all of the following:\\nreason, use strategy, solve puzzles, and make judgments under uncertainty\\nrepresent knowledge, including common sense knowledge\\nplan\\nlearn\\ncommunicate in natural language\\nif necessary, integrate these skills in completion of any given goalMany interdisciplinary approaches (e.g. cognitive science, computational intelligence, and decision making) consider additional traits such as imagination (the ability to form novel mental images and concepts) and autonomy.Computer-based systems that exhibit many of these capabilities exist (e.g. see computational creativity, automated reasoning, decision support system, robot, evolutionary computation, intelligent agent). However, no consensus holds that modern AI systems possess them to an adequate degree.\\n\\n\\n=== Physical traits ===\\nOther capabilities are considered desirable in intelligent systems, as they may affect intelligence or aid in its expression. These include:\\nthe ability to sense (e.g. see, hear, etc.), and\\nthe ability to act (e.g. move and manipulate objects, change location to explore, etc.)This includes the ability to detect and respond to hazard.\\n\\n\\n=== Tests for human-level AGI ===\\nSeveral tests meant to confirm human-level AGI have been considered, including:\\nThe Turing Test (Turing)\\nA machine and a human both converse unseen with a second human, who must evaluate which of the two is the machine, which passes the test if it can fool the evaluator a significant fraction of the time. Note: Turing does not prescribe what should qualify as intelligence, only that knowing that it is a machine should disqualify it. The AI Eugene Goostman achieved Turing\\'s estimate of convincing 30% of judges that it was human in 2014.\\nThe Robot College Student Test (Goertzel)\\nA machine enrolls in a university, taking and passing the same classes that humans would, and obtaining a degree. LLMs can now pass university degree-level exams without even attending the classes.\\nThe Employment Test (Nilsson)\\nA machine performs an economically important job at least as well as humans in the same job. AIs are now replacing humans in many roles as varied as fast food and marketing.\\nThe Ikea test (Marcus)\\nAlso known as the Flat Pack Furniture Test. An AI views the parts and instructions of an Ikea flat-pack product, then controls a robot to assemble the furniture correctly.\\nThe Coffee Test (Wozniak)\\nA machine is required to enter an average American home and figure out how to make coffee: find the coffee machine, find the coffee, add water, find a mug, and brew the coffee by pushing the proper buttons. This has not yet been completed.\\n\\n\\n=== AI-complete problems ===\\n\\nThere are many problems ', metadata={'title': 'Artificial general intelligence', 'summary': 'An artificial general intelligence (AGI) is a hypothetical type of intelligent agent. If realized, an AGI could learn to accomplish any intellectual task that human beings or animals can perform. Alternatively, AGI has been defined as an autonomous system that surpasses human capabilities in the majority of economically valuable tasks. Creating AGI is a primary goal of some artificial intelligence research and of companies such as OpenAI, DeepMind, and Anthropic. AGI is a common topic in science fiction and futures studies.\\nThe timeline for AGI development remains a subject of ongoing debate among researchers and experts. Some argue that it may be possible in years or decades; others maintain it might take a century or longer; and a minority believe it may never be achieved. Additionally, there is debate regarding whether modern large language models, such as GPT-3, are early yet incomplete forms of AGI or if new approaches are required.Contention exists over the potential for AGI to pose a threat to humanity; for example, OpenAI treats it as an existential risk, while others find the development of AGI to be too remote to present a risk.A 2020 survey identified 72 active AGI R&D projects spread across 37 countries.', 'source': 'https://en.wikipedia.org/wiki/Artificial_general_intelligence'}), Document(page_content='Bard is a conversational generative artificial intelligence chatbot developed by Google, based initially on the LaMDA family of large language models (LLMs) and later PaLM. It was developed as a direct response to the rise of OpenAI\\'s ChatGPT, and was released in a limited capacity in March 2023 to lukewarm responses, before expanding to other countries in May.\\nLaMDA had been developed and announced in 2021, but was not released to the public. OpenAI\\'s launch of ChatGPT in November 2022 and its subsequent popularity caught Google executives off-guard and sent them into a panic, prompting a massive and unprecedented level of response in the ensuing months. After mobilizing its workforce, the company scrambled to launch Bard in February 2023, with the chatbot taking center stage during the 2023 Google I/O keynote in May.\\n\\n\\n== Background ==\\nIn November 2022, OpenAI launched ChatGPT, a chatbot based on the GPT-3 family of large language models (LLM). ChatGPT gained worldwide attention following its release, becoming a viral Internet sensation. Alarmed by ChatGPT\\'s potential threat to Google Search, Google executives issued a \"code red\" alert, reassigning several teams to assist in the company\\'s artificial intelligence (AI) efforts. Sundar Pichai, the CEO of Google and parent company Alphabet, was widely reported to have issued the alert, but Pichai later denied this to The New York Times. In a rare move, Google co-founders Larry Page and Sergey Brin, who had stepped down from their roles as co-CEOs of Alphabet in 2019, were summoned to emergency meetings with company executives to discuss Google\\'s response to ChatGPT.Earlier in 2021, the company had unveiled LaMDA, a prototype LLM, but did not release it to the public. When asked by employees at an all-hands meeting whether LaMDA was a missed opportunity for Google to compete with ChatGPT, Pichai and Google AI chief Jeff Dean stated that while the company had similar capabilities to ChatGPT, moving too quickly in that arena would represent a major \"reputational risk\" due to Google being substantially larger than OpenAI. In January 2023, Google sister company DeepMind CEO Demis Hassabis hinted at plans for a ChatGPT rival, and Google employees were instructed to accelerate progress on a ChatGPT competitor, intensively testing \"Apprentice Bard\" and other chatbots. Pichai assured investors during Google\\'s quarterly earnings investor call in February that the company had plans to expand LaMDA\\'s availability and applications.\\n\\n\\n== History ==\\n\\n\\n=== Announcement ===\\nOn February 6, 2023, Google announced Bard, a conversational generative artificial intelligence chatbot powered by LaMDA. Bard was first rolled out to a select group of 10,000 \"trusted testers\", before a wide release scheduled at the end of the month. Bard is overseen by product lead Jack Krawczyk, who described the product as a \"collaborative AI service\" rather than a search engine, while Pichai detailed how Bard would be integrated into Google Search. Reuters calculated that adding ChatGPT-like features to Google Search could cost the company $6 billion in additional expenses by 2024, while research and consulting firm SemiAnalysis calculated that it would cost Google $3 billion. The technology was developed under the codename \"Atlas\", with the name \"Bard\" in reference to the Celtic term for a storyteller and chosen to \"reflect the creative nature of the algorithm underneath\".Multiple media outlets and financial analysts described Google as \"rushing\" Bard\\'s announcement to preempt rival Microsoft\\'s planned February 7 event unveiling its partnership with OpenAI to integrate ChatGPT into its Bing search engine in the form of Bing Chat, as well as playing \"catch-up\" to Microsoft. Microsoft CEO Satya Nadella told The Verge: \"I want people to know that we made them dance.\" Tom Warren of The Verge and Davey Alba of Bloomberg News noted that this marked the beginning of another clash between the two Big Tech companies over \"the future of search\", after their six-year \"truce\" expired in 2021; Chris Stokel-Walker of The Guardian, Sara Morrison of Recode, and analyst Dan Ives of investment firm Wedbush Securities labeled this an AI arms race between the two.After an \"underwhelming\" February 8 livestream in Paris showcasing Bard, Google\\'s stock fell eight percent, equivalent to a $100 billion loss in market value, and the YouTube video of the livestream was made private. Many viewers also pointed out an error during the demo in which Bard gives inaccurate information about the James Webb Space Telescope in response to a query. Google employees criticized Pichai\\'s \"rushed\" and \"botched\" announcement of Bard on Memgen, the company\\'s internal forum, while Maggie Harrison of Futurism called the rollout \"chaos\". Pichai defended his actions by saying that Google had been \"deeply working on AI for a long time\", rejecting the notion that Bard\\'s launch was a knee-jerk reaction. Alphabet chairman John Hennessy acknowledged t', metadata={'title': 'Bard (chatbot)', 'summary': \"Bard is a conversational generative artificial intelligence chatbot developed by Google, based initially on the LaMDA family of large language models (LLMs) and later PaLM. It was developed as a direct response to the rise of OpenAI's ChatGPT, and was released in a limited capacity in March 2023 to lukewarm responses, before expanding to other countries in May.\\nLaMDA had been developed and announced in 2021, but was not released to the public. OpenAI's launch of ChatGPT in November 2022 and its subsequent popularity caught Google executives off-guard and sent them into a panic, prompting a massive and unprecedented level of response in the ensuing months. After mobilizing its workforce, the company scrambled to launch Bard in February 2023, with the chatbot taking center stage during the 2023 Google I/O keynote in May.\", 'source': 'https://en.wikipedia.org/wiki/Bard_(chatbot)'})]\n"
     ]
    }
   ],
   "source": [
    "loader = WikipediaLoader(query='OpenAI',load_max_docs=10, doc_content_chars_max = 4000)\n",
    "documents = loader.load()\n",
    "\n",
    "print(documents)"
   ]
  },
  {
   "cell_type": "code",
   "execution_count": 46,
   "id": "bf97f02d",
   "metadata": {},
   "outputs": [
    {
     "data": {
      "text/plain": [
       "10"
      ]
     },
     "execution_count": 46,
     "metadata": {},
     "output_type": "execute_result"
    }
   ],
   "source": [
    "len(documents)"
   ]
  },
  {
   "cell_type": "code",
   "execution_count": 59,
   "id": "24c690f4",
   "metadata": {},
   "outputs": [
    {
     "name": "stdout",
     "output_type": "stream",
     "text": [
      "OpenAI is an American artificial intelligence (AI) research organization consisting of the non-profit OpenAI, Inc. registered in Delaware and its for-profit subsidiary OpenAI Global, LLC. OpenAI researches artificial intelligence with the declared intention of developing \"safe and beneficial\" artificial general intelligence, which it defines as \"highly autonomous systems that outperform humans at most economically valuable work\". OpenAI has also developed several large language models, such as ChatGPT and GPT-4, as well as advanced image generation models like DALL-E 3, and in the past published open-source models.The organization was founded in December 2015 by Ilya Sutskever, Greg Brockman, Trevor Blackwell, Vicki Cheung, Andrej Karpathy, Durk Kingma, Jessica Livingston, John Schulman, Pamela Vagata, and Wojciech Zaremba, with Sam Altman and Elon Musk serving as the initial board members. Microsoft provided OpenAI Global LLC with a $1 billion investment in 2019 and a $10 billion investment in 2023.On November 17, 2023, the board removed Altman as CEO, while Brockman was removed as chairman and then resigned as president. Four days later, both returned after negotiations with the board, and most of the board members resigned. The new initial board included former Salesforce co-CEO Bret Taylor as chairman.\n",
      "\n",
      "\n",
      "== History ==\n",
      "\n",
      "\n",
      "=== 2015–2018: Non-profit beginnings ===\n",
      "In December 2015, Sam Altman, Greg Brockman, Reid Hoffman, Jessica Livingston, Peter Thiel, Elon Musk, Amazon Web Services (AWS), Infosys, and YC Research announced the formation of OpenAI and pledged over $1 billion to the venture. The actual collected total amount of contributions was only $130 million until 2019. According to an investigation led by TechCrunch, Musk was its largest donor while YC Research did not contribute anything at all. The organization stated it would \"freely collaborate\" with other institutions and researchers by making its patents and research open to the public. OpenAI is headquartered at the Pioneer Building in Mission District, San Francisco.According to Wired, Brockman met with Yoshua Bengio, one of the \"founding fathers\" of deep learning, and drew up a list of the \"best researchers in the field\". Brockman was able to hire nine of them as the first employees in December 2015. In 2016, OpenAI paid corporate-level (rather than nonprofit-level) salaries, but did not pay AI researchers salaries comparable to those of Facebook or Google.Microsoft's Peter Lee stated that the cost of a top AI researcher exceeds the cost of a top NFL quarterback prospect. OpenAI's potential and mission drew these researchers to the firm; a Google employee said he was willing to leave Google for OpenAI \"partly because of the very strong group of people and, to a very large extent, because of its mission.\" Brockman stated that \"the best thing that I could imagine doing was moving humanity closer to building real AI in a safe way.\" OpenAI co-founder Wojciech Zaremba stated that he turned down \"borderline crazy\" offers of two to three times his market value to join OpenAI instead.In April 2016, OpenAI released a public beta of \"OpenAI Gym\", its platform for reinforcement learning research. Nvidia gifted its first DGX-1 supercomputer to OpenAI in August 2016 to help it train larger and more complex AI models with the capability of reducing processing time from six days to two hours. In December 2016, OpenAI released \"Universe\", a software platform for measuring and training an AI's general intelligence across the world's supply of games, websites, and other applications.In 2017 OpenAI spent $7.9 million, or a quarter of its functional expenses, on cloud computing alone. In comparison, DeepMind's total expenses in 2017 were $442 million. In the summer of 2018, simply training OpenAI's Dota 2 bots required renting 128,000 CPUs and 256 GPUs from Google for multiple weeks.\n",
      "In 2018, Musk resigned from his board seat, citing \"a potential future conflict [of interest]\" with his role as CEO of Tesla due to Tesla's AI development for self-driving cars. Sam Altman claims that Musk believed OpenAI had fallen behind other players like Google and Musk proposed instead to take over OpenAI himself, which the board rejected. Musk subsequently left OpenAI but claimed to remain a donor, yet made no donations after his departure.In February 2019, GPT-2 was announced, which got a lot of attention for its ability to generate human-like text.\n",
      "\n",
      "\n",
      "=== 2019: Transition from non-profit ===\n",
      "In 2019, OpenAI transitioned from non-profit to \"capped\" for-profit, with the profit being capped at 100 times any investment. According to OpenAI, the capped-profit model allows OpenAI Global LLC to legally attract investment from venture funds and, in addition, to grant employees stakes in the company. Many top researchers work for Google Brain, DeepMind, or Facebook , which offer stock options that a nonprofit would be unable to. Before the transition, public disclosure of the compens\n"
     ]
    }
   ],
   "source": [
    "print(documents[0].page_content)"
   ]
  },
  {
   "cell_type": "code",
   "execution_count": 58,
   "id": "8531c25b",
   "metadata": {
    "scrolled": false
   },
   "outputs": [
    {
     "name": "stdout",
     "output_type": "stream",
     "text": [
      "{'title': 'OpenAI', 'summary': 'OpenAI is an American artificial intelligence (AI) research organization consisting of the non-profit OpenAI, Inc. registered in Delaware and its for-profit subsidiary OpenAI Global, LLC. OpenAI researches artificial intelligence with the declared intention of developing \"safe and beneficial\" artificial general intelligence, which it defines as \"highly autonomous systems that outperform humans at most economically valuable work\". OpenAI has also developed several large language models, such as ChatGPT and GPT-4, as well as advanced image generation models like DALL-E 3, and in the past published open-source models.The organization was founded in December 2015 by Ilya Sutskever, Greg Brockman, Trevor Blackwell, Vicki Cheung, Andrej Karpathy, Durk Kingma, Jessica Livingston, John Schulman, Pamela Vagata, and Wojciech Zaremba, with Sam Altman and Elon Musk serving as the initial board members. Microsoft provided OpenAI Global LLC with a $1 billion investment in 2019 and a $10 billion investment in 2023.On November 17, 2023, the board removed Altman as CEO, while Brockman was removed as chairman and then resigned as president. Four days later, both returned after negotiations with the board, and most of the board members resigned. The new initial board included former Salesforce co-CEO Bret Taylor as chairman.', 'source': 'https://en.wikipedia.org/wiki/OpenAI'}\n"
     ]
    }
   ],
   "source": [
    "print(documents[0].metadata)"
   ]
  },
  {
   "cell_type": "code",
   "execution_count": 47,
   "id": "ddc3c4a3",
   "metadata": {},
   "outputs": [
    {
     "name": "stdout",
     "output_type": "stream",
     "text": [
      "https://en.wikipedia.org/wiki/OpenAI\n",
      "https://en.wikipedia.org/wiki/OpenAI_Codex\n",
      "https://en.wikipedia.org/wiki/OpenAI_Five\n",
      "https://en.wikipedia.org/wiki/ChatGPT\n",
      "https://en.wikipedia.org/wiki/Greg_Brockman\n",
      "https://en.wikipedia.org/wiki/Mira_Murati\n",
      "https://en.wikipedia.org/wiki/Sam_Altman\n",
      "https://en.wikipedia.org/wiki/Ilya_Sutskever\n",
      "https://en.wikipedia.org/wiki/Artificial_general_intelligence\n",
      "https://en.wikipedia.org/wiki/Bard_(chatbot)\n"
     ]
    }
   ],
   "source": [
    "for i in range(len(documents)):\n",
    "    print(documents[i].metadata['source'])"
   ]
  },
  {
   "cell_type": "code",
   "execution_count": 12,
   "id": "0657ceef",
   "metadata": {},
   "outputs": [],
   "source": [
    "# Set logging for the queries to understand what's happening behind the scenes. \n",
    "import logging\n",
    "\n",
    "logging.basicConfig()\n",
    "logging.getLogger(\"langchain.retrievers.multi_query\").setLevel(logging.INFO)"
   ]
  },
  {
   "cell_type": "code",
   "execution_count": 20,
   "id": "945ecad0",
   "metadata": {},
   "outputs": [],
   "source": [
    "from langchain.retrievers.multi_query import MultiQueryRetriever"
   ]
  },
  {
   "cell_type": "code",
   "execution_count": 68,
   "id": "11b05132",
   "metadata": {},
   "outputs": [
    {
     "name": "stderr",
     "output_type": "stream",
     "text": [
      "INFO:langchain.retrievers.multi_query:Generated queries: ['1. Can you provide details about the dispute between Sam Altman and the board of OpenAI?', '2. What were the main points of contention between Sam Altman and the board of OpenAI?', '3. Could you explain the controversy that arose between Sam Altman and the board of OpenAI?']\n"
     ]
    },
    {
     "data": {
      "text/plain": [
       "[Document(page_content='==== OpenAI ====\\nOpenAI was initially funded by Altman, Greg Brockman, Elon Musk, Jessica Livingston, Peter Thiel, Microsoft, Amazon Web Services, Infosys, and YC Research. When OpenAI launched in 2015, it had raised $1 billion. In March 2019, Sam Altman left Y Combinator to focus full-time on OpenAI as CEO. By the summer of 2019, he had helped raise $1 billion from Microsoft. Altman testified before the United States Senate Judiciary Subcommittee on Privacy, Technology and the Law on 16 May 2023 about issues of AI oversight. On November 17, 2023, OpenAI\\'s board announced that it had made the decision to remove Altman as CEO. The board said that Altman \"was not consistently candid in his communications.\"The Verge reported that a day after Altman was removed, the board was in discussion to bring him back. It has also been said that before Altman was removed, he was', metadata={'source': 'https://en.wikipedia.org/wiki/Sam_Altman', 'summary': 'Samuel Harris Altman ( AWLT-mən; born April 22, 1985) is an American entrepreneur and investor, who has been the chief executive officer of OpenAI since 2019 (being briefly fired in November 2023). Prior to OpenAI, Altman was president of Y Combinator from 2014 until he was fired by Paul Graham in 2019.', 'title': 'Sam Altman'}),\n",
       " Document(page_content='Samuel Harris Altman ( AWLT-mən; born April 22, 1985) is an American entrepreneur and investor, who has been the chief executive officer of OpenAI since 2019 (being briefly fired in November 2023). Prior to OpenAI, Altman was president of Y Combinator from 2014 until he was fired by Paul Graham in 2019.\\n\\n\\n== Early life and education ==\\nSamuel Harris Altman was born on April 22, 1985, in Chicago, Illinois, into a Jewish family, and grew up in St. Louis, Missouri. His mother is a dermatologist. At the age of eight he received his first computer, an Apple Macintosh. Altman\\'s \"childhood idol\" was Steve Jobs. He attended John Burroughs School, a private school in Ladue, Missouri. In 2005, after one year at Stanford University studying computer science, he dropped out without earning a bachelor\\'s degree.', metadata={'source': 'https://en.wikipedia.org/wiki/Sam_Altman', 'summary': 'Samuel Harris Altman ( AWLT-mən; born April 22, 1985) is an American entrepreneur and investor, who has been the chief executive officer of OpenAI since 2019 (being briefly fired in November 2023). Prior to OpenAI, Altman was president of Y Combinator from 2014 until he was fired by Paul Graham in 2019.', 'title': 'Sam Altman'}),\n",
       " Document(page_content='==== OpenAI ====\\nOpenAI was initially funded by Altman, Greg Brockman, Elon Musk, Jessica Livingston, Peter Thiel, Microsoft, Amazon Web Services, Infosys, and YC Research. When OpenAI launched in 2015, it had raised $1 billion. In March 2019, Sam Altman left Y Combinator to focus full-time on OpenAI as CEO. By the summer of', metadata={'source': 'https://en.wikipedia.org/wiki/Sam_Altman', 'summary': 'Samuel Harris Altman ( AWLT-mən; born April 22, 1985) is an American entrepreneur and investor, who has been the chief executive officer of OpenAI since 2019 (being briefly fired in November 2023). Prior to OpenAI, Altman was president of Y Combinator from 2014 until he was fired by Paul Graham in 2019.', 'title': 'Sam Altman'}),\n",
       " Document(page_content='Samuel Harris Altman ( AWLT-mən; born April 22, 1985) is an American entrepreneur and investor, who has been the chief executive officer of OpenAI since 2019 (being briefly fired in November 2023). Prior to OpenAI, Altman was president of Y Combinator from 2014 until he was fired by Paul Graham in 2019.\\n\\n\\n== Early life and education ==\\nSamuel Harris Altman was born on April 22, 1985, in Chicago, Illinois, into a Jewish family, and grew up in St. Louis, Missouri. His mother is a dermatologist. At the age of eight he received his first computer, an Apple Macintosh. Altman\\'s \"childhood idol\" was Steve Jobs. He attended John Burroughs School, a private school in Ladue, Missouri. In 2005, after one year at Stanford University studying computer science, he dropped out without earning a bachelor\\'s degree.\\nAltman has been a vegetarian since childhood. He is gay and dated Loopt co-founder Nick Sivo for nine years; they broke up shortly after the company was acquired in 2012. As of 2023, his partner is Oliver Mulherin, an Australian software engineer. Altman lives in San Francisco\\'s Russian Hill neighborhood and owns a weekend home in Napa, California. Altman is a prepper. He said in 2016: \"I have guns, gold, potassium iodide, antibiotics, batteries, water, gas masks from the Israeli Defense Force, and a big patch of land in Big Sur I can fly to.\"', metadata={'source': 'https://en.wikipedia.org/wiki/Sam_Altman', 'summary': 'Samuel Harris Altman ( AWLT-mən; born April 22, 1985) is an American entrepreneur and investor, who has been the chief executive officer of OpenAI since 2019 (being briefly fired in November 2023). Prior to OpenAI, Altman was president of Y Combinator from 2014 until he was fired by Paul Graham in 2019.', 'title': 'Sam Altman'})]"
      ]
     },
     "execution_count": 68,
     "metadata": {},
     "output_type": "execute_result"
    }
   ],
   "source": [
    "topic = \"OpenAI\"\n",
    "question = 'What was the contorversy between Sam Altman and the board of OpenAI'\n",
    "\n",
    "embedding_function = OpenAIEmbeddings()\n",
    "db = Chroma(persist_directory='./OpenAI',embedding_function=embedding_function)\n",
    "\n",
    "llm = ChatOpenAI(model_name=\"gpt-3.5-turbo\", temperature=0) \n",
    "retriever_from_llm = MultiQueryRetriever.from_llm(retriever=db.as_retriever(),llm=llm)\n",
    "\n",
    "retriever_from_llm.get_relevant_documents(query = question)"
   ]
  },
  {
   "cell_type": "code",
   "execution_count": 65,
   "id": "ccad1eb2",
   "metadata": {},
   "outputs": [
    {
     "name": "stderr",
     "output_type": "stream",
     "text": [
      "C:\\Users\\yashnarendra\\AppData\\Local\\anaconda3\\Lib\\site-packages\\langchain\\chains\\llm.py:321: UserWarning: The predict_and_parse method is deprecated, instead pass an output parser directly to LLMChain.\n",
      "  warnings.warn(\n",
      "C:\\Users\\yashnarendra\\AppData\\Local\\anaconda3\\Lib\\site-packages\\langchain\\chains\\llm.py:321: UserWarning: The predict_and_parse method is deprecated, instead pass an output parser directly to LLMChain.\n",
      "  warnings.warn(\n",
      "C:\\Users\\yashnarendra\\AppData\\Local\\anaconda3\\Lib\\site-packages\\langchain\\chains\\llm.py:321: UserWarning: The predict_and_parse method is deprecated, instead pass an output parser directly to LLMChain.\n",
      "  warnings.warn(\n",
      "C:\\Users\\yashnarendra\\AppData\\Local\\anaconda3\\Lib\\site-packages\\langchain\\chains\\llm.py:321: UserWarning: The predict_and_parse method is deprecated, instead pass an output parser directly to LLMChain.\n",
      "  warnings.warn(\n"
     ]
    },
    {
     "name": "stdout",
     "output_type": "stream",
     "text": [
      "The board announced that it had made the decision to remove Altman as CEO. The board said that Altman \"was not consistently candid in his communications.\"\n",
      "Samuel Harris Altman ( AWLT-mən; born April 22, 1985) is an American entrepreneur and investor, who has been the chief executive officer of OpenAI since 2019 (being briefly fired in November 2023). Prior to OpenAI, Altman was president of Y Combinator from 2014 until he was fired by Paul Graham in 2019.\n"
     ]
    }
   ],
   "source": [
    "\n",
    "compressor = LLMChainExtractor.from_llm(llm)\n",
    "compression_retriever = ContextualCompressionRetriever(base_compressor=compressor, \n",
    "                                                           base_retriever=db.as_retriever(), verbose = False)\n",
    "compressed_docs = compression_retriever.get_relevant_documents(question)\n",
    "print(compressed_docs[0].page_content)\n",
    "print(compressed_docs[0].metadata['summary'])"
   ]
  },
  {
   "cell_type": "code",
   "execution_count": 25,
   "id": "91cee70f",
   "metadata": {},
   "outputs": [
    {
     "data": {
      "text/plain": [
       "[Document(page_content='The board announced that it had made the decision to remove Altman as CEO. The board said that Altman \"was not consistently candid in his communications.\"', metadata={'source': 'https://en.wikipedia.org/wiki/Sam_Altman', 'summary': 'Samuel Harris Altman ( AWLT-mən; born April 22, 1985) is an American entrepreneur and investor, who has been the chief executive officer of OpenAI since 2019 (being briefly fired in November 2023). Prior to OpenAI, Altman was president of Y Combinator from 2014 until he was fired by Paul Graham in 2019.', 'title': 'Sam Altman'}),\n",
       " Document(page_content='Samuel Harris Altman has been the chief executive officer of OpenAI since 2019 (being briefly fired in November 2023).', metadata={'source': 'https://en.wikipedia.org/wiki/Sam_Altman', 'summary': 'Samuel Harris Altman ( AWLT-mən; born April 22, 1985) is an American entrepreneur and investor, who has been the chief executive officer of OpenAI since 2019 (being briefly fired in November 2023). Prior to OpenAI, Altman was president of Y Combinator from 2014 until he was fired by Paul Graham in 2019.', 'title': 'Sam Altman'}),\n",
       " Document(page_content='Sam Altman left Y Combinator to focus full-time on OpenAI as CEO.', metadata={'source': 'https://en.wikipedia.org/wiki/Sam_Altman', 'summary': 'Samuel Harris Altman ( AWLT-mən; born April 22, 1985) is an American entrepreneur and investor, who has been the chief executive officer of OpenAI since 2019 (being briefly fired in November 2023). Prior to OpenAI, Altman was president of Y Combinator from 2014 until he was fired by Paul Graham in 2019.', 'title': 'Sam Altman'}),\n",
       " Document(page_content='Samuel Harris Altman is the chief executive officer of OpenAI since 2019.', metadata={'source': 'https://en.wikipedia.org/wiki/Sam_Altman', 'summary': 'Samuel Harris Altman ( AWLT-mən; born April 22, 1985) is an American entrepreneur and investor, who has been the chief executive officer of OpenAI since 2019 (being briefly fired in November 2023). Prior to OpenAI, Altman was president of Y Combinator from 2014 until he was fired by Paul Graham in 2019.', 'title': 'Sam Altman'})]"
      ]
     },
     "execution_count": 25,
     "metadata": {},
     "output_type": "execute_result"
    }
   ],
   "source": [
    "compressed_docs"
   ]
  },
  {
   "cell_type": "code",
   "execution_count": null,
   "id": "d1f6a3a6",
   "metadata": {},
   "outputs": [],
   "source": []
  }
 ],
 "metadata": {
  "kernelspec": {
   "display_name": "Python 3 (ipykernel)",
   "language": "python",
   "name": "python3"
  },
  "language_info": {
   "codemirror_mode": {
    "name": "ipython",
    "version": 3
   },
   "file_extension": ".py",
   "mimetype": "text/x-python",
   "name": "python",
   "nbconvert_exporter": "python",
   "pygments_lexer": "ipython3",
   "version": "3.11.5"
  }
 },
 "nbformat": 4,
 "nbformat_minor": 5
}
