{
 "cells": [
  {
   "cell_type": "markdown",
   "id": "728f1747-b8fc-4d31-96c2-047fc83c079d",
   "metadata": {},
   "source": [
    "# Agents\n",
    "\n",
    "You can see a full list of integrations here: https://integrations.langchain.com/tools"
   ]
  },
  {
   "cell_type": "code",
   "execution_count": 1,
   "id": "244f42d8-2349-446e-a1c2-ae4b8d3ee38f",
   "metadata": {},
   "outputs": [],
   "source": [
    "from langchain.agents import load_tools\n",
    "from langchain.agents import initialize_agent\n",
    "from langchain.agents import AgentType\n",
    "from langchain.chat_models import ChatOpenAI\n",
    "import os\n",
    "from dotenv import load_dotenv, find_dotenv\n",
    "load_dotenv(find_dotenv(), override=True)\n",
    "api_key = os.getenv(\"OPENAI_API_KEY\")\n",
    "serp_api_key = os.getenv(\"SERPAPI_API_KEY\")\n",
    "#Link to SERPAPI - https://serpapi.com/users/welcome"
   ]
  },
  {
   "cell_type": "code",
   "execution_count": 2,
   "id": "9930d49e-f985-4a57-b3d5-697947182a46",
   "metadata": {},
   "outputs": [
    {
     "name": "stdout",
     "output_type": "stream",
     "text": [
      "Collecting google-search-results\n",
      "  Downloading google_search_results-2.4.2.tar.gz (18 kB)\n",
      "  Preparing metadata (setup.py): started\n",
      "  Preparing metadata (setup.py): finished with status 'done'\n",
      "Requirement already satisfied: requests in c:\\users\\yashnarendra\\appdata\\local\\anaconda3\\lib\\site-packages (from google-search-results) (2.31.0)\n",
      "Requirement already satisfied: charset-normalizer<4,>=2 in c:\\users\\yashnarendra\\appdata\\local\\anaconda3\\lib\\site-packages (from requests->google-search-results) (2.0.4)\n",
      "Requirement already satisfied: idna<4,>=2.5 in c:\\users\\yashnarendra\\appdata\\local\\anaconda3\\lib\\site-packages (from requests->google-search-results) (3.4)\n",
      "Requirement already satisfied: urllib3<3,>=1.21.1 in c:\\users\\yashnarendra\\appdata\\local\\anaconda3\\lib\\site-packages (from requests->google-search-results) (1.26.16)\n",
      "Requirement already satisfied: certifi>=2017.4.17 in c:\\users\\yashnarendra\\appdata\\local\\anaconda3\\lib\\site-packages (from requests->google-search-results) (2023.7.22)\n",
      "Building wheels for collected packages: google-search-results\n",
      "  Building wheel for google-search-results (setup.py): started\n",
      "  Building wheel for google-search-results (setup.py): finished with status 'done'\n",
      "  Created wheel for google-search-results: filename=google_search_results-2.4.2-py3-none-any.whl size=32077 sha256=1ced5dfeb02338711125a72722e04839a64d1bfd4c15da0d9bdccf1df0f6dcae\n",
      "  Stored in directory: c:\\users\\yashnarendra\\appdata\\local\\pip\\cache\\wheels\\6e\\42\\3e\\aeb691b02cb7175ec70e2da04b5658d4739d2b41e5f73cd06f\n",
      "Successfully built google-search-results\n",
      "Installing collected packages: google-search-results\n",
      "Successfully installed google-search-results-2.4.2\n"
     ]
    }
   ],
   "source": [
    "!pip install google-search-results"
   ]
  },
  {
   "cell_type": "markdown",
   "id": "ca0491c2-e6a6-4961-98c4-1550ec1c11e9",
   "metadata": {},
   "source": [
    "Certain tools require API Keys, in this example, we use SERPER API, create a new account and access your API KEY HERE:\n",
    "https://serpapi.com/users/welcome\n",
    "\n",
    "**NOTE: IN THE FUTURE SERPAPI MAY CHARGE FOR AN API KEY OR REQUIRE A CREDIT CARD**"
   ]
  },
  {
   "cell_type": "code",
   "execution_count": 3,
   "id": "de49a069-fcf1-465b-8e20-9410680645e1",
   "metadata": {},
   "outputs": [],
   "source": [
    "llm = ChatOpenAI(model_name=\"gpt-3.5-turbo\",openai_api_key=api_key,temperature=0)"
   ]
  },
  {
   "cell_type": "code",
   "execution_count": 4,
   "id": "85189426-f4bb-4018-adcc-14fbdb444d36",
   "metadata": {},
   "outputs": [],
   "source": [
    "tools = load_tools([\"serpapi\",\"llm-math\"], llm=llm,) "
   ]
  },
  {
   "cell_type": "code",
   "execution_count": 10,
   "id": "ffdfe861-3352-4e1c-8cbd-2c25e4d2f94d",
   "metadata": {},
   "outputs": [],
   "source": [
    "# dir(AgentType)"
   ]
  },
  {
   "cell_type": "code",
   "execution_count": 6,
   "id": "488d1642-e736-4fa5-9b08-3331c462b8b1",
   "metadata": {},
   "outputs": [],
   "source": [
    "agent = initialize_agent(tools, \n",
    "                         llm, \n",
    "                         agent=AgentType.ZERO_SHOT_REACT_DESCRIPTION, \n",
    "                         verbose=True)"
   ]
  },
  {
   "cell_type": "code",
   "execution_count": 15,
   "id": "5eced15f-3852-4be0-909f-a7d6e8bc9c4b",
   "metadata": {},
   "outputs": [
    {
     "name": "stdout",
     "output_type": "stream",
     "text": [
      "\n",
      "\n",
      "\u001b[1m> Entering new AgentExecutor chain...\u001b[0m\n",
      "\u001b[32;1m\u001b[1;3mI need to find the current stock price of Microsoft and calculate the profit or loss based on the purchase price.\n",
      "Action: Search\n",
      "Action Input: \"Microsoft stock price today\"\u001b[0m\n",
      "Observation: \u001b[36;1m\u001b[1;3m{'type': 'finance_results', 'title': 'Microsoft Corp', 'exchange': 'NASDAQ', 'stock': ' MSFT', 'currency': 'USD', 'price': 382.7, 'previous_close': 378.61}\u001b[0m\n",
      "Thought:\u001b[32;1m\u001b[1;3mI have found the current stock price of Microsoft. Now I need to calculate the profit or loss.\n",
      "Action: Calculator\n",
      "Action Input: (382.7 - 240) * 10\u001b[0m\n",
      "Observation: \u001b[33;1m\u001b[1;3mAnswer: 1427.0\u001b[0m\n",
      "Thought:\u001b[32;1m\u001b[1;3mI now know the final answer\n",
      "Final Answer: The current stock price of Microsoft is $382.7. If you bought 10 shares at $240, your profit would be $1427.\u001b[0m\n",
      "\n",
      "\u001b[1m> Finished chain.\u001b[0m\n"
     ]
    },
    {
     "data": {
      "text/plain": [
       "'The current stock price of Microsoft is $382.7. If you bought 10 shares at $240, your profit would be $1427.'"
      ]
     },
     "execution_count": 15,
     "metadata": {},
     "output_type": "execute_result"
    }
   ],
   "source": [
    "agent.run(\"What is the microsoft stock price today? If I bought 10 shares of micrsoft at 240 usd what is my profit or loss?\")"
   ]
  },
  {
   "cell_type": "code",
   "execution_count": 16,
   "id": "f7c7114e",
   "metadata": {},
   "outputs": [
    {
     "name": "stdout",
     "output_type": "stream",
     "text": [
      "\n",
      "\n",
      "\u001b[1m> Entering new AgentExecutor chain...\u001b[0m\n",
      "\u001b[32;1m\u001b[1;3mI need to find the current stock price of Microsoft and calculate the profit or loss based on the purchase price. I also need to consider whether it's a good time to sell or keep the stocks.\n",
      "Action: Search\n",
      "Action Input: \"Microsoft stock price today\"\u001b[0m\n",
      "Observation: \u001b[36;1m\u001b[1;3m{'type': 'finance_results', 'title': 'Microsoft Corp', 'exchange': 'NASDAQ', 'stock': ' MSFT', 'currency': 'USD', 'price': 382.7, 'previous_close': 378.61}\u001b[0m\n",
      "Thought:\u001b[32;1m\u001b[1;3mI have found the current stock price of Microsoft. Now I need to calculate the profit or loss based on the purchase price.\n",
      "Action: Calculator\n",
      "Action Input: (382.7 - 240) * 10\u001b[0m\n",
      "Observation: \u001b[33;1m\u001b[1;3mAnswer: 1427.0\u001b[0m\n",
      "Thought:\u001b[32;1m\u001b[1;3mI have calculated the profit or loss based on the purchase price. Now I need to decide whether to sell or keep the stocks.\u001b[0m\n",
      "Observation: Invalid Format: Missing 'Action:' after 'Thought:\n",
      "Thought:\u001b[32;1m\u001b[1;3mI need to make a decision based on the profit or loss calculation. \n",
      "Action: Search\n",
      "Action Input: \"Should I sell or keep stocks\"\u001b[0m\n",
      "Observation: \u001b[36;1m\u001b[1;3m1 Rule For When To Sell Stocks. To make money in stocks, you must protect the money you already have. That brings us to the cardinal rule of selling. Always sell a stock it if falls 7%-8% below what you paid for it.\u001b[0m\n",
      "Thought:\u001b[32;1m\u001b[1;3mBased on the profit or loss calculation and the rule for selling stocks, I can now make a decision.\n",
      "Final Answer: The current stock price of Microsoft is $382.7. Your profit is $1427. Based on the rule for selling stocks, if the stock falls 7%-8% below what you paid for it, you should sell.\u001b[0m\n",
      "\n",
      "\u001b[1m> Finished chain.\u001b[0m\n"
     ]
    },
    {
     "data": {
      "text/plain": [
       "'The current stock price of Microsoft is $382.7. Your profit is $1427. Based on the rule for selling stocks, if the stock falls 7%-8% below what you paid for it, you should sell.'"
      ]
     },
     "execution_count": 16,
     "metadata": {},
     "output_type": "execute_result"
    }
   ],
   "source": [
    "agent.run(\"What is the microsoft stock price today? If I bought 10 shares of micrsoft at 240 usd what is my profit or loss? Shall I sell my stocks or keep them?\")"
   ]
  },
  {
   "cell_type": "code",
   "execution_count": 12,
   "id": "ddcae29c",
   "metadata": {},
   "outputs": [],
   "source": [
    "agent = initialize_agent(tools, \n",
    "                         llm, \n",
    "                         agent=AgentType.ZERO_SHOT_REACT_DESCRIPTION,\n",
    "                         handle_parsing_errors=True,\n",
    "                         verbose=True)"
   ]
  },
  {
   "cell_type": "code",
   "execution_count": 13,
   "id": "5c846b1f",
   "metadata": {},
   "outputs": [
    {
     "name": "stdout",
     "output_type": "stream",
     "text": [
      "\n",
      "\n",
      "\u001b[1m> Entering new AgentExecutor chain...\u001b[0m\n",
      "\u001b[32;1m\u001b[1;3mI need to find the current stock price of Microsoft and calculate the profit or loss based on the purchase price. I also need to consider whether it's a good time to sell or keep the stocks.\n",
      "Action: Search\n",
      "Action Input: \"Microsoft stock price today\"\u001b[0m\n",
      "Observation: \u001b[36;1m\u001b[1;3m{'type': 'finance_results', 'title': 'Microsoft Corp', 'exchange': 'NASDAQ', 'stock': ' MSFT', 'currency': 'USD', 'price': 381.33, 'previous_close': 378.61}\u001b[0m\n",
      "Thought:\u001b[32;1m\u001b[1;3mI have found the current stock price of Microsoft. Now I need to calculate the profit or loss based on the purchase price.\n",
      "Action: Calculator\n",
      "Action Input: (381.33 - 240) * 10\u001b[0m\n",
      "Observation: \u001b[33;1m\u001b[1;3mAnswer: 1413.2999999999997\u001b[0m\n",
      "Thought:\u001b[32;1m\u001b[1;3mI have calculated the profit or loss based on the purchase price. Now I need to determine whether it's a good time to sell or keep the stocks.\u001b[0m\n",
      "Observation: Invalid Format: Missing 'Action:' after 'Thought:\n",
      "Thought:\u001b[32;1m\u001b[1;3mI need to compare the current stock price with the purchase price to determine whether it's a good time to sell or keep the stocks.\n",
      "Action: Calculator\n",
      "Action Input: 381.33 > 240\u001b[0m\n",
      "Observation: \u001b[33;1m\u001b[1;3mAnswer: True\u001b[0m\n",
      "Thought:\u001b[32;1m\u001b[1;3mBased on the current stock price being higher than the purchase price, it may be a good time to sell the stocks.\n",
      "Final Answer: The current stock price of Microsoft is $381.33. The profit or loss on 10 shares bought at $240 would be $1413.30. It may be a good time to sell the stocks.\u001b[0m\n",
      "\n",
      "\u001b[1m> Finished chain.\u001b[0m\n"
     ]
    },
    {
     "data": {
      "text/plain": [
       "'The current stock price of Microsoft is $381.33. The profit or loss on 10 shares bought at $240 would be $1413.30. It may be a good time to sell the stocks.'"
      ]
     },
     "execution_count": 13,
     "metadata": {},
     "output_type": "execute_result"
    }
   ],
   "source": [
    "agent.run(\"What is the microsoft stock price today? If I bought 10 shares of micrsoft at 240 usd what is my profit or loss? Shall I sell my stocks or keep them?\")"
   ]
  },
  {
   "cell_type": "code",
   "execution_count": null,
   "id": "21a1e29f",
   "metadata": {},
   "outputs": [],
   "source": []
  },
  {
   "cell_type": "code",
   "execution_count": null,
   "id": "6e308b80",
   "metadata": {},
   "outputs": [],
   "source": []
  }
 ],
 "metadata": {
  "kernelspec": {
   "display_name": "Python 3 (ipykernel)",
   "language": "python",
   "name": "python3"
  },
  "language_info": {
   "codemirror_mode": {
    "name": "ipython",
    "version": 3
   },
   "file_extension": ".py",
   "mimetype": "text/x-python",
   "name": "python",
   "nbconvert_exporter": "python",
   "pygments_lexer": "ipython3",
   "version": "3.11.5"
  }
 },
 "nbformat": 4,
 "nbformat_minor": 5
}
