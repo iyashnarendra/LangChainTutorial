{
 "cells": [
  {
   "cell_type": "markdown",
   "id": "728f1747-b8fc-4d31-96c2-047fc83c079d",
   "metadata": {},
   "source": [
    "#  Document Loading Exercise Solution\n",
    "\n",
    "## Answering a Single Question\n",
    "\n",
    "Using the Wikipedia Document Loader Integration,can you make a function that accepts a famous historical figure name and a question about them, and then uses a ChatModel to answer questions with the additional context?"
   ]
  },
  {
   "cell_type": "code",
   "execution_count": null,
   "id": "244f42d8-2349-446e-a1c2-ae4b8d3ee38f",
   "metadata": {},
   "outputs": [],
   "source": [
    "# !pip install wikipedia"
   ]
  },
  {
   "cell_type": "code",
   "execution_count": 1,
   "id": "b8230e8c",
   "metadata": {},
   "outputs": [],
   "source": [
    "from dotenv import load_dotenv, find_dotenv\n",
    "import os"
   ]
  },
  {
   "cell_type": "code",
   "execution_count": 2,
   "id": "2a539244-89c6-4019-8608-1cdf51ba1983",
   "metadata": {},
   "outputs": [],
   "source": [
    "def answer_question_about(person_name,question):\n",
    "    \n",
    "    '''\n",
    "    Use the Wikipedia Document Loader to help answer questions about someone, insert it as additional helpful context.\n",
    "    '''\n",
    "    \n",
    "    return answer"
   ]
  },
  {
   "cell_type": "code",
   "execution_count": 3,
   "id": "b5243006-d86e-41b0-aa52-3b6f1308d631",
   "metadata": {},
   "outputs": [],
   "source": [
    "from langchain.prompts import (\n",
    "    ChatPromptTemplate,\n",
    "    SystemMessagePromptTemplate,\n",
    "    HumanMessagePromptTemplate,\n",
    ")\n",
    "from langchain.chat_models import ChatOpenAI\n",
    "from langchain.document_loaders import WikipediaLoader\n",
    "\n",
    "\n",
    "\n",
    "def answer_question_about(person_name,question):\n",
    "    # Get Wikipedia Article\n",
    "    # load_max_docs=1 just first paragraph\n",
    "    docs = WikipediaLoader(query=person_name,load_max_docs=1)\n",
    "    context_text = docs.load()[0].page_content\n",
    "    print(context_text)\n",
    "    \n",
    "    # Connect to OpenAI Model\n",
    "    load_dotenv(find_dotenv(), override=True)\n",
    "    api_key = os.getenv(\"OPENAI_API_KEY\")\n",
    "    model = ChatOpenAI(model_name=\"gpt-3.5-turbo\",openai_api_key=api_key)\n",
    "    \n",
    "    # Ask Model Question\n",
    "    human_prompt = HumanMessagePromptTemplate.from_template('Answer this question\\n{question}, here is some extra context:\\n{document}')\n",
    "    \n",
    "    # Assemble chat prompt\n",
    "    chat_prompt = ChatPromptTemplate.from_messages([human_prompt])\n",
    "    \n",
    "    #result\n",
    "    result = model(chat_prompt.format_prompt(question=question,document=context_text).to_messages())\n",
    "    \n",
    "#     print(result.content)"
   ]
  },
  {
   "cell_type": "code",
   "execution_count": 4,
   "id": "e3a43963-57d4-44c5-8d28-b6164b2c0b83",
   "metadata": {},
   "outputs": [
    {
     "name": "stdout",
     "output_type": "stream",
     "text": [
      "Novak Djokovic (Serbian: Новак Ђоковић, Novak Đoković, pronounced [nôʋaːk dʑôːkoʋitɕ] ; born 22 May 1987) is a Serbian professional tennis player who is currently ranked world No. 1 in singles by the Association of Tennis Professionals (ATP). Djokovic has been ranked No. 1 for a record total of 400 weeks in a record 13 different years, and finished as the year-end No. 1 a record eight times. Djokovic has won an all-time record 24 Grand Slam men's singles titles, including a record ten Australian Open titles. Overall, he has won 98 singles titles, including a record 71 Big Titles: 24 majors, a record 40 Masters, and a record seven ATP Finals. Djokovic is the only man in tennis history to be the reigning champion of all four majors at once across three different surfaces. In singles, he is the only man to achieve a triple Career Grand Slam, and the only player to complete a career Golden Masters, a feat he has achieved twice. \n",
      "Djokovic began his professional career in 2003. In 2008, at age 20, he disrupted Roger Federer and Rafael Nadal's streak of 11 consecutive majors by winning his first major title at the Australian Open. By 2010, Djokovic had begun to separate himself from the rest of the field and, as a result, the trio of Federer, Nadal and him was referred to as the \"Big Three\" among fans and commentators. In 2011, Djokovic ascended to No. 1 for the first time, winning three majors and a then-record five Masters titles while going 10–1 against Nadal and Federer. He remained the most successful player in men's tennis for the rest of the decade. In 2015, Djokovic had his most successful season, reaching a single-season record 15 consecutive finals, winning a season-record 10 Big Titles while having a record 31 victories over the top-10 players. His dominant run extended through to the 2016 French Open, where he completed his first Career Grand Slam and a non-calendar year Grand Slam, becoming the first man since Rod Laver in 1969 to hold all four majors simultaneously and setting a rankings points record of 16,950. In 2017, Djokovic suffered from an elbow injury that weakened his results until the 2018 Wimbledon Championships, where he won the title while ranked No. 21 in the world. Djokovic has continued to be a dominant force on the tour since then, winning 12 major titles and completing his second and third Career Grand Slams. Due to his opposition to COVID-19 vaccine, Djokovic was forced to skip many tournaments in 2022, notably the Australian Open and the US Open; two major events he was the favourite to win. One year after the Australian visa controversy, Djokovic made a successful comeback to reclaim the 2023 Australian Open trophy, and shortly after he claimed the French Open to take the outright record for most men's singles majors won in history.Representing Serbia, Djokovic led the national tennis team to its first Davis Cup title in 2010, and to the inaugural ATP Cup title in 2020. He also won the bronze medal for his country at the 2008 Beijing Olympics. Djokovic is a recipient of the Order of St. Sava, the Order of Karađorđe's Star, and the Order of the Republika Srpska. His other awards include being named the Laureus World Sportsman of the Year four times (2012, 2015, 2016 and 2019) and the 2011 BBC Overseas Sports Personality of the Year.Beyond competition, Djokovic was elected as the president of the ATP Player Council in 2016. He stepped down in 2020 to front a new player-only tennis association; the Professional Tennis Players Association (PTPA) founded by him and Vasek Pospisil, citing the need for players to have more influence on the tour and advocating better prize money structure for lower ranked players. Djokovic is an active philanthropist. He is the founder of Novak Djokovic Foundation, which is committed to supporting children from disadvantaged communities. Djokovic was appointed a UNICEF Goodwill Ambassador in 2015.\n",
      "\n",
      "\n",
      "== Early and personal life ==\n",
      "Novak Djokovic was born on 22 May 1987 in Bel\n"
     ]
    }
   ],
   "source": [
    "answer_question_about(\"Novak Djokovic\",\"how many grand slams did he win?\")"
   ]
  },
  {
   "cell_type": "code",
   "execution_count": null,
   "id": "b9074e58-b4af-4a21-a503-a0c58621a7a3",
   "metadata": {},
   "outputs": [],
   "source": [
    "answer_question_about(\"Cricket World Cup\",\"Who is current champion?\")"
   ]
  },
  {
   "cell_type": "code",
   "execution_count": null,
   "id": "a17a5f43",
   "metadata": {},
   "outputs": [],
   "source": []
  }
 ],
 "metadata": {
  "kernelspec": {
   "display_name": "Python 3 (ipykernel)",
   "language": "python",
   "name": "python3"
  },
  "language_info": {
   "codemirror_mode": {
    "name": "ipython",
    "version": 3
   },
   "file_extension": ".py",
   "mimetype": "text/x-python",
   "name": "python",
   "nbconvert_exporter": "python",
   "pygments_lexer": "ipython3",
   "version": "3.11.5"
  }
 },
 "nbformat": 4,
 "nbformat_minor": 5
}
