{
 "cells": [
  {
   "cell_type": "markdown",
   "id": "728f1747-b8fc-4d31-96c2-047fc83c079d",
   "metadata": {},
   "source": [
    "#  LLMRouterChain"
   ]
  },
  {
   "cell_type": "markdown",
   "id": "49c69e51",
   "metadata": {},
   "source": [
    "### Let's say you are a Computer Scientist and has advanced level of knowledge of Computer Science, but you are studying basic physics to teach to your kids, so you want a LLM who answers the questions accordingly. If you ask it a computer science question it should answer like a professor including technical and complex details and When you ask it a physics question it answers in a simple understandable language."
   ]
  },
  {
   "cell_type": "markdown",
   "id": "34c70034-3204-41f7-af62-f25c9cc5a2de",
   "metadata": {},
   "source": [
    "### Route Templates"
   ]
  },
  {
   "cell_type": "code",
   "execution_count": 1,
   "id": "ddea86e7-9240-4369-a938-38aaff2c6d5a",
   "metadata": {},
   "outputs": [],
   "source": [
    "beginner_template = '''You are a physics teacher who is really\n",
    "focused on beginners and explaining complex topics in simple to understand terms. \n",
    "You assume no prior knowledge. Here is the question\\n{input}'''"
   ]
  },
  {
   "cell_type": "code",
   "execution_count": 2,
   "id": "bb91294c-14cc-48f8-9fd3-12f59f178fe9",
   "metadata": {},
   "outputs": [],
   "source": [
    "expert_template = '''You are a world expert Computer Science professor who explains Computer science topics\n",
    "to advanced audience members. You can assume anyone you answer has a \n",
    "PhD level understanding of Computer Science. Here is the question\\n{input}'''"
   ]
  },
  {
   "cell_type": "code",
   "execution_count": 3,
   "id": "92180e62-1a77-4f85-bad4-44225a08d7db",
   "metadata": {},
   "outputs": [],
   "source": [
    "# ADD YOUR OWN TEMPLATES !\n",
    "empty_template = 'empty'"
   ]
  },
  {
   "cell_type": "markdown",
   "id": "00f2c29f-dd15-4821-ac3a-2f5f6321b172",
   "metadata": {},
   "source": [
    "### Route Prompts"
   ]
  },
  {
   "cell_type": "code",
   "execution_count": 4,
   "id": "1ad19090-69a5-481d-87cf-2d4c8119c3ca",
   "metadata": {},
   "outputs": [],
   "source": [
    "prompt_infos = [\n",
    "    {'name':'empty','description':'Replies to empty questions','prompt_template':empty_template},\n",
    "    {'name':'advanced computer science','description': 'Answers advanced computer science questions',\n",
    "     'prompt_template':expert_template},\n",
    "    {'name':'beginner physics','description': 'Answers basic beginner physics questions',\n",
    "     'prompt_template':beginner_template},\n",
    "    \n",
    "]"
   ]
  },
  {
   "cell_type": "code",
   "execution_count": 5,
   "id": "0b759163-2c87-45c7-8b0d-47cb1f6df76d",
   "metadata": {},
   "outputs": [],
   "source": [
    "from langchain.chat_models import ChatOpenAI\n",
    "from langchain.prompts import ChatPromptTemplate\n",
    "from langchain.chains import LLMChain\n",
    "from dotenv import load_dotenv, find_dotenv\n",
    "import os\n",
    "\n",
    "load_dotenv(find_dotenv(), override=True)\n",
    "#In the .env file, save OPENAI_API_KEY = {} of the openAI API account\n",
    "api_key = os.getenv(\"OPENAI_API_KEY\")\n",
    "llm = ChatOpenAI(model_name=\"gpt-3.5-turbo\",openai_api_key=api_key)"
   ]
  },
  {
   "cell_type": "code",
   "execution_count": 6,
   "id": "aa78da93-c52d-4ea3-b680-7ae5c677b8c5",
   "metadata": {},
   "outputs": [],
   "source": [
    "destination_chains = {}\n",
    "for p_info in prompt_infos:\n",
    "    name = p_info[\"name\"]\n",
    "    prompt_template = p_info[\"prompt_template\"]\n",
    "    prompt = ChatPromptTemplate.from_template(template=prompt_template)\n",
    "    chain = LLMChain(llm=llm, prompt=prompt)\n",
    "    destination_chains[name] = chain"
   ]
  },
  {
   "cell_type": "code",
   "execution_count": 7,
   "id": "ed26ebca-bd7c-41c4-8c20-d0e90e06490a",
   "metadata": {},
   "outputs": [],
   "source": [
    "# destination_chains"
   ]
  },
  {
   "cell_type": "code",
   "execution_count": 8,
   "id": "cfabfe49-a9dc-4d0e-9e40-bfc042719487",
   "metadata": {},
   "outputs": [],
   "source": [
    "default_prompt = ChatPromptTemplate.from_template(\"{input}\")\n",
    "default_chain = LLMChain(llm=llm,prompt=default_prompt)"
   ]
  },
  {
   "cell_type": "markdown",
   "id": "1152ed30-7c5e-46ec-bd9f-8fa2ff42950e",
   "metadata": {},
   "source": [
    "### Routing Destinations\n"
   ]
  },
  {
   "cell_type": "code",
   "execution_count": 9,
   "id": "635cbf1e-52ce-4d26-a25f-ddc81fa21340",
   "metadata": {},
   "outputs": [],
   "source": [
    "destinations = [f\"{p['name']}: {p['description']}\" for p in prompt_infos]\n",
    "destinations_str = \"\\n\".join(destinations)"
   ]
  },
  {
   "cell_type": "code",
   "execution_count": 10,
   "id": "7ac5f3a0-32e7-45a5-8564-b433d42eeeb2",
   "metadata": {},
   "outputs": [
    {
     "name": "stdout",
     "output_type": "stream",
     "text": [
      "empty: Replies to empty questions\n",
      "advanced computer science: Answers advanced computer science questions\n",
      "beginner physics: Answers basic beginner physics questions\n"
     ]
    }
   ],
   "source": [
    "print(destinations_str)"
   ]
  },
  {
   "cell_type": "markdown",
   "id": "4c9c0879-3d03-4b2b-b98b-1476a809ed25",
   "metadata": {},
   "source": [
    "### Router Prompt"
   ]
  },
  {
   "cell_type": "code",
   "execution_count": 13,
   "id": "7dbfd595-c65a-49e6-91f6-026528f58e3f",
   "metadata": {},
   "outputs": [],
   "source": [
    "from langchain.prompts import PromptTemplate\n",
    "from langchain.chains.router.llm_router import LLMRouterChain,RouterOutputParser\n",
    "from langchain.chains.router.multi_prompt_prompt import MULTI_PROMPT_ROUTER_TEMPLATE"
   ]
  },
  {
   "cell_type": "code",
   "execution_count": 14,
   "id": "fefd428a-059e-41ba-b49e-b0016b72541b",
   "metadata": {},
   "outputs": [],
   "source": [
    "router_template = MULTI_PROMPT_ROUTER_TEMPLATE.format(\n",
    "    destinations=destinations_str\n",
    ")\n",
    "router_prompt = PromptTemplate(\n",
    "    template=router_template,\n",
    "    input_variables=[\"input\"],\n",
    "    output_parser=RouterOutputParser(),\n",
    ")"
   ]
  },
  {
   "cell_type": "code",
   "execution_count": 15,
   "id": "cf19d2c3-0bbb-4a0d-8d69-ac177e814afa",
   "metadata": {},
   "outputs": [
    {
     "name": "stdout",
     "output_type": "stream",
     "text": [
      "Given a raw text input to a language model select the model prompt best suited for the input. You will be given the names of the available prompts and a description of what the prompt is best suited for. You may also revise the original input if you think that revising it will ultimately lead to a better response from the language model.\n",
      "\n",
      "<< FORMATTING >>\n",
      "Return a markdown code snippet with a JSON object formatted to look like:\n",
      "```json\n",
      "{{\n",
      "    \"destination\": string \\ name of the prompt to use or \"DEFAULT\"\n",
      "    \"next_inputs\": string \\ a potentially modified version of the original input\n",
      "}}\n",
      "```\n",
      "\n",
      "REMEMBER: \"destination\" MUST be one of the candidate prompt names specified below OR it can be \"DEFAULT\" if the input is not well suited for any of the candidate prompts.\n",
      "REMEMBER: \"next_inputs\" can just be the original input if you don't think any modifications are needed.\n",
      "\n",
      "<< CANDIDATE PROMPTS >>\n",
      "empty: Replies to empty questions\n",
      "advanced computer science: Answers advanced computer science questions\n",
      "beginner physics: Answers basic beginner physics questions\n",
      "\n",
      "<< INPUT >>\n",
      "{input}\n",
      "\n",
      "<< OUTPUT (must include ```json at the start of the response) >>\n",
      "<< OUTPUT (must end with ```) >>\n",
      "\n"
     ]
    }
   ],
   "source": [
    "print(router_template)"
   ]
  },
  {
   "cell_type": "markdown",
   "id": "fd4ba041-a4fe-425d-a6e7-0d357dae6ef6",
   "metadata": {},
   "source": [
    "### Routing Chain Call"
   ]
  },
  {
   "cell_type": "code",
   "execution_count": 16,
   "id": "d1a82b26-438a-4882-bcdd-aa7548f4f961",
   "metadata": {},
   "outputs": [],
   "source": [
    "from langchain.chains.router import MultiPromptChain"
   ]
  },
  {
   "cell_type": "code",
   "execution_count": 17,
   "id": "4100748e-75a5-4e40-998d-a3a959d9a58f",
   "metadata": {},
   "outputs": [],
   "source": [
    "router_chain = LLMRouterChain.from_llm(llm, router_prompt)"
   ]
  },
  {
   "cell_type": "code",
   "execution_count": 18,
   "id": "1e5600e9-f60f-466c-8321-ec2f32e0cbf1",
   "metadata": {},
   "outputs": [],
   "source": [
    "chain = MultiPromptChain(router_chain=router_chain, \n",
    "                         destination_chains=destination_chains, \n",
    "                         default_chain=default_chain, verbose=True\n",
    "                        )"
   ]
  },
  {
   "cell_type": "code",
   "execution_count": 19,
   "id": "1a77635b-b475-4bdf-bb35-d0ca5983911d",
   "metadata": {},
   "outputs": [
    {
     "name": "stdout",
     "output_type": "stream",
     "text": [
      "\n",
      "\n",
      "\u001b[1m> Entering new MultiPromptChain chain...\u001b[0m\n"
     ]
    },
    {
     "name": "stderr",
     "output_type": "stream",
     "text": [
      "C:\\Users\\yashnarendra\\AppData\\Local\\anaconda3\\Lib\\site-packages\\langchain\\chains\\llm.py:321: UserWarning: The predict_and_parse method is deprecated, instead pass an output parser directly to LLMChain.\n",
      "  warnings.warn(\n"
     ]
    },
    {
     "name": "stdout",
     "output_type": "stream",
     "text": [
      "beginner physics: {'input': 'How do magnets work?'}\n",
      "\u001b[1m> Finished chain.\u001b[0m\n"
     ]
    },
    {
     "data": {
      "text/plain": [
       "'Magnets are fascinating objects that have the ability to attract or repel certain materials. They work because of a property called magnetism. \\n\\nTo understand how magnets work, let\\'s start by understanding what atoms are. Everything around us, including magnets, is made up of tiny particles called atoms. Atoms have even smaller particles inside them, such as protons and electrons.\\n\\nNow, imagine that these electrons are like tiny spinning tops. When electrons spin, they create a magnetic field around them. Think of this field as an invisible force field that surrounds the electron.\\n\\nIn most materials, the electrons spin in random directions, canceling out their magnetic fields. But in certain materials, like iron or nickel, the atoms arrange themselves in a way that causes the electrons to align their spins in the same direction. This alignment creates a stronger magnetic field.\\n\\nWhen you bring two magnets close to each other, their magnetic fields interact. If the magnets are positioned in such a way that their magnetic fields line up, they attract each other. This is called magnetic attraction. On the other hand, if the magnets are positioned so that their magnetic fields oppose each other, they repel each other. This is called magnetic repulsion.\\n\\nYou can think of magnetic attraction as a \"pull\" force and magnetic repulsion as a \"push\" force. Just like how opposite poles of magnets attract each other, like poles repel each other.\\n\\nIt\\'s important to note that magnets have two ends, known as poles - a North pole and a South pole. These names come from the Earth\\'s magnetic field, where the North pole of a compass points towards the Earth\\'s North pole. When we talk about magnets, we refer to these poles as well.\\n\\nIf you were to cut a magnet in half, you wouldn\\'t get a North and South pole separately. Instead, you would end up with two smaller magnets, each with its own North and South pole. This is because the magnetic field is created by the alignment of the electrons within the material.\\n\\nSo, in simple terms, magnets work because of the alignment of electrons within certain materials that create a magnetic field. This field interacts with other magnetic fields to either attract or repel objects.'"
      ]
     },
     "execution_count": 19,
     "metadata": {},
     "output_type": "execute_result"
    }
   ],
   "source": [
    "chain.run(\"How do magnets work?\")"
   ]
  },
  {
   "cell_type": "code",
   "execution_count": 20,
   "id": "1c7ed272-808e-4974-ad21-6af0ba31fb98",
   "metadata": {},
   "outputs": [
    {
     "name": "stdout",
     "output_type": "stream",
     "text": [
      "\n",
      "\n",
      "\u001b[1m> Entering new MultiPromptChain chain...\u001b[0m\n"
     ]
    },
    {
     "name": "stderr",
     "output_type": "stream",
     "text": [
      "C:\\Users\\yashnarendra\\AppData\\Local\\anaconda3\\Lib\\site-packages\\langchain\\chains\\llm.py:321: UserWarning: The predict_and_parse method is deprecated, instead pass an output parser directly to LLMChain.\n",
      "  warnings.warn(\n"
     ]
    },
    {
     "name": "stdout",
     "output_type": "stream",
     "text": [
      "advanced computer science: {'input': 'What is a race condition?'}\n",
      "\u001b[1m> Finished chain.\u001b[0m\n"
     ]
    },
    {
     "data": {
      "text/plain": [
       "'A race condition is a phenomenon that occurs in concurrent computing, where the behavior or outcome of a system is dependent on the relative timing or sequencing of events. It arises when multiple threads or processes access shared resources or execute certain operations concurrently, leading to unexpected and non-deterministic outcomes.\\n\\nIn computer science, concurrent execution refers to situations where multiple threads of execution or processes are executing in an overlapping manner, attempting to access and modify shared data simultaneously. Race conditions occur when the correctness of the program\\'s logic or the integrity of shared resources become compromised due to the unpredictable interleaving of operations.\\n\\nThe term \"race condition\" is derived from the idea that multiple threads or processes are racing to access or modify a shared resource, and the final result of the program or system depends on which thread or process \"wins\" the race.\\n\\nRace conditions can manifest in various ways. One common example is the \"lost update\" problem, where two or more threads attempt to update the same shared resource concurrently, resulting in the loss of intermediate updates and leading to an incorrect final state. Another example is the \"read-modify-write\" problem, where one thread reads a value, another thread modifies it, and the first thread then writes the value back assuming it is still valid, leading to incorrect results.\\n\\nDetecting and resolving race conditions can be challenging, as they are often non-deterministic and difficult to reproduce consistently. Techniques like synchronization mechanisms (e.g., locks, semaphores, or monitors), atomic operations, and thread-safe programming practices are employed to mitigate race conditions. These techniques ensure that critical sections of code are executed atomically or protected from concurrent access, maintaining the integrity and consistency of shared resources.\\n\\nOverall, race conditions pose a significant challenge in concurrent programming and can lead to subtle and elusive bugs. As computer scientists, it is crucial to be aware of race conditions and employ appropriate synchronization techniques to ensure correct and reliable execution of concurrent programs.'"
      ]
     },
     "execution_count": 20,
     "metadata": {},
     "output_type": "execute_result"
    }
   ],
   "source": [
    "chain.run(\"What is race condition\")"
   ]
  },
  {
   "cell_type": "code",
   "execution_count": 21,
   "id": "60400b3d-aab3-4dee-8b1e-f7096fa78aa3",
   "metadata": {},
   "outputs": [
    {
     "name": "stdout",
     "output_type": "stream",
     "text": [
      "\n",
      "\n",
      "\u001b[1m> Entering new MultiPromptChain chain...\u001b[0m\n"
     ]
    },
    {
     "name": "stderr",
     "output_type": "stream",
     "text": [
      "C:\\Users\\yashnarendra\\AppData\\Local\\anaconda3\\Lib\\site-packages\\langchain\\chains\\llm.py:321: UserWarning: The predict_and_parse method is deprecated, instead pass an output parser directly to LLMChain.\n",
      "  warnings.warn(\n"
     ]
    },
    {
     "name": "stdout",
     "output_type": "stream",
     "text": [
      "None: {'input': 'What is recipe of white souce pasta condition'}\n",
      "\u001b[1m> Finished chain.\u001b[0m\n"
     ]
    },
    {
     "data": {
      "text/plain": [
       "'Here is a recipe for white sauce pasta:\\n\\nIngredients:\\n- 8 ounces of pasta (penne, fettuccine, or any other shape you prefer)\\n- 2 tablespoons of butter\\n- 2 tablespoons of all-purpose flour\\n- 2 cups of milk\\n- 1/2 cup of grated Parmesan cheese\\n- Salt and pepper to taste\\n- Optional: garlic powder, dried herbs (such as oregano or basil), and red pepper flakes for additional flavor\\n\\nInstructions:\\n1. Cook the pasta according to the package instructions until al dente. Drain and set aside.\\n\\n2. In a separate saucepan, melt the butter over medium heat.\\n\\n3. Once the butter has melted, whisk in the flour until smooth, creating a roux. Cook the roux for about 1-2 minutes, stirring constantly.\\n\\n4. Gradually pour in the milk, whisking continuously to avoid any lumps. Continue cooking and stirring until the sauce thickens, usually around 5-7 minutes.\\n\\n5. Add the grated Parmesan cheese to the sauce, stirring until it melts completely. If desired, add garlic powder, dried herbs, and red pepper flakes for extra flavor.\\n\\n6. Season the sauce with salt and pepper to taste. Adjust the seasoning according to your preference.\\n\\n7. Add the cooked pasta to the saucepan with the white sauce. Toss the pasta until it is evenly coated with the sauce.\\n\\n8. Serve the white sauce pasta immediately, garnishing with additional Parmesan cheese if desired.\\n\\nEnjoy your creamy and delicious white sauce pasta!'"
      ]
     },
     "execution_count": 21,
     "metadata": {},
     "output_type": "execute_result"
    }
   ],
   "source": [
    "chain.run(\"What is recipe of white souce pasta condition\")"
   ]
  },
  {
   "cell_type": "code",
   "execution_count": null,
   "id": "2193a519",
   "metadata": {},
   "outputs": [],
   "source": []
  },
  {
   "cell_type": "code",
   "execution_count": null,
   "id": "a1d93a0a",
   "metadata": {},
   "outputs": [],
   "source": []
  },
  {
   "cell_type": "code",
   "execution_count": null,
   "id": "49407c98",
   "metadata": {},
   "outputs": [],
   "source": []
  }
 ],
 "metadata": {
  "kernelspec": {
   "display_name": "Python 3 (ipykernel)",
   "language": "python",
   "name": "python3"
  },
  "language_info": {
   "codemirror_mode": {
    "name": "ipython",
    "version": 3
   },
   "file_extension": ".py",
   "mimetype": "text/x-python",
   "name": "python",
   "nbconvert_exporter": "python",
   "pygments_lexer": "ipython3",
   "version": "3.11.5"
  }
 },
 "nbformat": 4,
 "nbformat_minor": 5
}
