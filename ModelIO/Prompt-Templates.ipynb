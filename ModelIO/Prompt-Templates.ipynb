{
 "cells": [
  {
   "cell_type": "markdown",
   "id": "b5b99d72-d919-4362-a3e9-14e361f231b4",
   "metadata": {
    "tags": []
   },
   "source": [
    "# Understanding Prompt Templates"
   ]
  },
  {
   "cell_type": "code",
   "execution_count": 51,
   "id": "41711c1c",
   "metadata": {},
   "outputs": [],
   "source": [
    "from dotenv import load_dotenv, find_dotenv\n",
    "load_dotenv(find_dotenv(), override=True)\n",
    "\n",
    "import os\n",
    "api_key = os.getenv(\"OPENAI_API_KEY\")"
   ]
  },
  {
   "cell_type": "code",
   "execution_count": 52,
   "id": "bdb72664-ce8d-4d88-b003-8a930ff2c2ab",
   "metadata": {
    "scrolled": true
   },
   "outputs": [
    {
     "name": "stdout",
     "output_type": "stream",
     "text": [
      "\n",
      "\n",
      "Cybersecurity is becoming increasingly important as the number of connected devices in the world rises. According to a study by Statista, the number of connected devices is expected to reach 75 billion by 2025.\n"
     ]
    }
   ],
   "source": [
    "from langchain.llms import OpenAI\n",
    "llm = OpenAI(openai_api_key=api_key)\n",
    "print(llm('Here is a fun fact about Cybersecurity:'))"
   ]
  },
  {
   "cell_type": "markdown",
   "id": "f579bfe0-103e-430e-bac6-fa9fa50055b5",
   "metadata": {},
   "source": [
    "You can also use generate to get full output with more info:"
   ]
  },
  {
   "cell_type": "code",
   "execution_count": 11,
   "id": "24db968b-ef5a-4a31-bbb9-a08e48cb0a34",
   "metadata": {},
   "outputs": [],
   "source": [
    "# NEEDS TO BE A LIST, EVEN FOR JUST ONE STRING\n",
    "result = llm.generate(['Here is a fun fact about Cybersecurity:',\n",
    "                     'Here is a fun fact about a popular Hacker:']\n",
    "                     )"
   ]
  },
  {
   "cell_type": "code",
   "execution_count": 12,
   "id": "b23e6c06-1543-42a5-94e7-dbb6bf8f4c8e",
   "metadata": {},
   "outputs": [
    {
     "data": {
      "text/plain": [
       "{'title': 'LLMResult',\n",
       " 'description': 'Class that contains all results for a batched LLM call.',\n",
       " 'type': 'object',\n",
       " 'properties': {'generations': {'title': 'Generations',\n",
       "   'type': 'array',\n",
       "   'items': {'type': 'array', 'items': {'$ref': '#/definitions/Generation'}}},\n",
       "  'llm_output': {'title': 'Llm Output', 'type': 'object'},\n",
       "  'run': {'title': 'Run',\n",
       "   'type': 'array',\n",
       "   'items': {'$ref': '#/definitions/RunInfo'}}},\n",
       " 'required': ['generations'],\n",
       " 'definitions': {'Generation': {'title': 'Generation',\n",
       "   'description': 'A single text generation output.',\n",
       "   'type': 'object',\n",
       "   'properties': {'text': {'title': 'Text', 'type': 'string'},\n",
       "    'generation_info': {'title': 'Generation Info', 'type': 'object'},\n",
       "    'type': {'title': 'Type',\n",
       "     'default': 'Generation',\n",
       "     'enum': ['Generation'],\n",
       "     'type': 'string'}},\n",
       "   'required': ['text']},\n",
       "  'RunInfo': {'title': 'RunInfo',\n",
       "   'description': 'Class that contains metadata for a single execution of a Chain or model.',\n",
       "   'type': 'object',\n",
       "   'properties': {'run_id': {'title': 'Run Id',\n",
       "     'type': 'string',\n",
       "     'format': 'uuid'}},\n",
       "   'required': ['run_id']}}}"
      ]
     },
     "execution_count": 12,
     "metadata": {},
     "output_type": "execute_result"
    }
   ],
   "source": [
    "result.schema()"
   ]
  },
  {
   "cell_type": "code",
   "execution_count": 13,
   "id": "9f6575b5-3331-4ec6-9281-8f793ab541dc",
   "metadata": {},
   "outputs": [
    {
     "data": {
      "text/plain": [
       "LLMResult(generations=[[Generation(text=\"\\n\\nCybersecurity is a growing field, as the number of cyber attacks has increased significantly over the past few years. In fact, the World Economic Forum's Global Risks Report 2018 found that cyber attacks are now the fifth most likely risk to disrupt lives and businesses around the world.\", generation_info={'finish_reason': 'stop', 'logprobs': None})], [Generation(text='\\n\\nKevin Mitnick is one of the most famous hackers in the world. He is best known for hacking into companies such as Motorola, Sun Microsystems, and Nokia. He is also an author and a security consultant.', generation_info={'finish_reason': 'stop', 'logprobs': None})]], llm_output={'token_usage': {'prompt_tokens': 19, 'total_tokens': 123, 'completion_tokens': 104}, 'model_name': 'text-davinci-003'}, run=[RunInfo(run_id=UUID('a51b43fd-7954-4dd8-bc7f-42357feac766')), RunInfo(run_id=UUID('97735f22-b1ee-430f-b0b9-d7788a95ff42'))])"
      ]
     },
     "execution_count": 13,
     "metadata": {},
     "output_type": "execute_result"
    }
   ],
   "source": [
    "result"
   ]
  },
  {
   "cell_type": "code",
   "execution_count": 14,
   "id": "51e2e338",
   "metadata": {},
   "outputs": [
    {
     "data": {
      "text/plain": [
       "[[Generation(text=\"\\n\\nCybersecurity is a growing field, as the number of cyber attacks has increased significantly over the past few years. In fact, the World Economic Forum's Global Risks Report 2018 found that cyber attacks are now the fifth most likely risk to disrupt lives and businesses around the world.\", generation_info={'finish_reason': 'stop', 'logprobs': None})],\n",
       " [Generation(text='\\n\\nKevin Mitnick is one of the most famous hackers in the world. He is best known for hacking into companies such as Motorola, Sun Microsystems, and Nokia. He is also an author and a security consultant.', generation_info={'finish_reason': 'stop', 'logprobs': None})]]"
      ]
     },
     "execution_count": 14,
     "metadata": {},
     "output_type": "execute_result"
    }
   ],
   "source": [
    "result.generations"
   ]
  },
  {
   "cell_type": "markdown",
   "id": "38d37ccf-99d2-4aa6-ab73-0bd22e55b7b6",
   "metadata": {
    "tags": []
   },
   "source": [
    "## Language Model Templates\n",
    "\n",
    "### No Input Variables"
   ]
  },
  {
   "cell_type": "code",
   "execution_count": 15,
   "id": "1e34d990-cc7c-47f6-a191-854a575aabca",
   "metadata": {},
   "outputs": [
    {
     "data": {
      "text/plain": [
       "'Tell me a fact'"
      ]
     },
     "execution_count": 15,
     "metadata": {},
     "output_type": "execute_result"
    }
   ],
   "source": [
    "from langchain import PromptTemplate\n",
    "\n",
    "# An example prompt with no input variables\n",
    "no_input_prompt = PromptTemplate(input_variables=[], template=\"Tell me a fact\")\n",
    "no_input_prompt.format()\n",
    "# -> \"Tell me a fact.\""
   ]
  },
  {
   "cell_type": "markdown",
   "id": "be521325-8963-4505-8bf3-83b05e8a796a",
   "metadata": {},
   "source": [
    "### Single Input Variable"
   ]
  },
  {
   "cell_type": "code",
   "execution_count": 20,
   "id": "361467f3-81d3-4553-9a22-1198f44598c0",
   "metadata": {},
   "outputs": [
    {
     "data": {
      "text/plain": [
       "'Tell me a fact about DDOS.'"
      ]
     },
     "execution_count": 20,
     "metadata": {},
     "output_type": "execute_result"
    }
   ],
   "source": [
    "# An example prompt with one input variable\n",
    "one_input_prompt = PromptTemplate(input_variables=[\"topic\"], template=\"Tell me a fact about {topic}.\")\n",
    "# Notice how the stirng \"topic\" gets automatically converted to a parameter name, very convienent! \n",
    "one_input_prompt.format(topic=\"DDOS\")"
   ]
  },
  {
   "cell_type": "code",
   "execution_count": 39,
   "id": "272e6973",
   "metadata": {},
   "outputs": [
    {
     "data": {
      "text/plain": [
       "'### Kusto tables, with their properties: ## AuditLogs table contains logs of operations that happened on key vaults\\n# AuditLogs(Region: string, DataCenter: string tells location of data center, ScaleUnit: string, Role: string, ActivityName: string, callerIpAddress: string, identity: string with format {\"claim\":{\"oid\":\"\",\"appid\":\"\",\"appidacr\":\"\",\"xms_az_rid\":\"\",\"xms_az_nwperimid\":\"\"}} where oid means Client Object ID and appid means Application ID, properties: string with format {\"id\":\"\",\"clientInfo\":\"\" means Client Information,\"httpStatusCode\":\\'\\',\"requestUri\":\"\",\"isAddressAuthorized\":\"\",\"addrAuthType\":\"\",\"isAccessPolicyMatch\":,\"tlsVersion\":\"\"}, resourceId: string, operationVersion: string, resultSignature: string, env_time: datetime, max_env_time: datetime, sum_OpCount: long, windowStart: string, TIMESTAMP: datetime, SubscriptionId: string, HttpStatusCode: string, ActivityUri: string, operationType: string, resultType: string which contains either \"Success\" or \"Failure\" based on whether access to keyvault was succeded or not, vault: string where vault refers to Key vaults, upn: string, CallerId: string)\\n#\\n# SecurityAlerts table contain the details of Alerts triggered and pubished by Microsoft Defender for Cloud\\n# SecurityAlerts (StartTimeUtc: datetime, EndTimeUtc: datetime, ProviderAlertId: string, SystemAlertId: string, ProviderName: string, VendorName: string, AlertType: string contains name of the Alert Type, AlertDisplayName: string contains deatails of Alert Type, Severity: string, IsIncident: bool, ExtendedProperties: dynamic with format {\"resourceType\": \"\" contains name of Azure resources like Key Vault Virtual Machine Storage account, \"Application ID\": \"\", \"Client Object ID\": \"\", \"Client Information\": \"\", \"Client IP Address\": \"\", \"Result Signature\": \"\", \"Target\": \"\", \"Alert Reasons\": \"\", \"All vault operations in last 24 hours\": \"\", \"Suspicious Operations\": \"\", \"Start Time UTC\": \"\", \"End Time UTC\": \"\", \"IP In Subscription\": \"Boolean Variable either True or False\"}, CompromisedEntity: string, Entities: dynamic, Intent: string, ExtendedLinks: dynamic, AzureResourceId: string, AzureResourceSubscriptionId: string, WorkspaceId: string, AgentId: string, WorkspaceSubscriptionId: string, WorkspaceResourceGroup: string, TimeGeneratedUtc: datetime, Metadata: dynamic, CorrelationKey: string, ProcessingEndTime: datetime, ProductComponentName: string, ProductName: string, ProductVersion: string, AlertUri: string, ResourceIdentifiers: dynamic with format [{\"$id\": \"\", \"AzureResourceId\": \"\", \"Type\": \"\", \"AzureResourceTenantId\": \"\"}, {\"$id\": \"\", \"Type\": \"\", \"AadTenantId\": \"\"}], Status: string, Version: string, Techniques: dynamic, SubTechniques: dynamic, Description: string, RemediationSteps: string, SupportingEvidence: dynamic, AlertPipelineProcessingStartTime: datetime, StoreManagerProcessingStartTime: datetime, IsPublished: bool, EffectiveSubscriptionId: string, EntitiesRawString: string)\\n#\\n# In case Join is needed, Use any number of following columns to join the tables - Application ID, Object ID, Client IP Address, AzureResourceId = resourceId\\n# Avoid joins if not needed.give top 5 caller ip adrees for Audit logs table'"
      ]
     },
     "execution_count": 39,
     "metadata": {},
     "output_type": "execute_result"
    }
   ],
   "source": [
    "# An example prompt with one input variable\n",
    "prompt = '''### Kusto tables, with their properties: ## AuditLogs table contains logs of operations that happened on key vaults\n",
    "# AuditLogs(Region: string, DataCenter: string tells location of data center, ScaleUnit: string, Role: string, ActivityName: string, callerIpAddress: string, identity: string with format {\"claim\":{\"oid\":\"\",\"appid\":\"\",\"appidacr\":\"\",\"xms_az_rid\":\"\",\"xms_az_nwperimid\":\"\"}} where oid means Client Object ID and appid means Application ID, properties: string with format {\"id\":\"\",\"clientInfo\":\"\" means Client Information,\"httpStatusCode\":'',\"requestUri\":\"\",\"isAddressAuthorized\":\"\",\"addrAuthType\":\"\",\"isAccessPolicyMatch\":,\"tlsVersion\":\"\"}, resourceId: string, operationVersion: string, resultSignature: string, env_time: datetime, max_env_time: datetime, sum_OpCount: long, windowStart: string, TIMESTAMP: datetime, SubscriptionId: string, HttpStatusCode: string, ActivityUri: string, operationType: string, resultType: string which contains either \"Success\" or \"Failure\" based on whether access to keyvault was succeded or not, vault: string where vault refers to Key vaults, upn: string, CallerId: string)\n",
    "#\n",
    "# SecurityAlerts table contain the details of Alerts triggered and pubished by Microsoft Defender for Cloud\n",
    "# SecurityAlerts (StartTimeUtc: datetime, EndTimeUtc: datetime, ProviderAlertId: string, SystemAlertId: string, ProviderName: string, VendorName: string, AlertType: string contains name of the Alert Type, AlertDisplayName: string contains deatails of Alert Type, Severity: string, IsIncident: bool, ExtendedProperties: dynamic with format {\"resourceType\": \"\" contains name of Azure resources like Key Vault Virtual Machine Storage account, \"Application ID\": \"\", \"Client Object ID\": \"\", \"Client Information\": \"\", \"Client IP Address\": \"\", \"Result Signature\": \"\", \"Target\": \"\", \"Alert Reasons\": \"\", \"All vault operations in last 24 hours\": \"\", \"Suspicious Operations\": \"\", \"Start Time UTC\": \"\", \"End Time UTC\": \"\", \"IP In Subscription\": \"Boolean Variable either True or False\"}, CompromisedEntity: string, Entities: dynamic, Intent: string, ExtendedLinks: dynamic, AzureResourceId: string, AzureResourceSubscriptionId: string, WorkspaceId: string, AgentId: string, WorkspaceSubscriptionId: string, WorkspaceResourceGroup: string, TimeGeneratedUtc: datetime, Metadata: dynamic, CorrelationKey: string, ProcessingEndTime: datetime, ProductComponentName: string, ProductName: string, ProductVersion: string, AlertUri: string, ResourceIdentifiers: dynamic with format [{\"$id\": \"\", \"AzureResourceId\": \"\", \"Type\": \"\", \"AzureResourceTenantId\": \"\"}, {\"$id\": \"\", \"Type\": \"\", \"AadTenantId\": \"\"}], Status: string, Version: string, Techniques: dynamic, SubTechniques: dynamic, Description: string, RemediationSteps: string, SupportingEvidence: dynamic, AlertPipelineProcessingStartTime: datetime, StoreManagerProcessingStartTime: datetime, IsPublished: bool, EffectiveSubscriptionId: string, EntitiesRawString: string)\n",
    "#\n",
    "# In case Join is needed, Use any number of following columns to join the tables - Application ID, Object ID, Client IP Address, AzureResourceId = resourceId\n",
    "# Avoid joins if not needed.'''\n",
    "\n",
    "one_input_prompt = PromptTemplate(input_variables=[\"topic\"], template=\"{prompt}{topic}\")\n",
    "# Notice how the stirng \"topic\" gets automatically converted to a parameter name, very convienent! \n",
    "one_input_prompt.format(topic=\"give top 5 caller ip adrees for Audit logs table\", prompt = prompt)"
   ]
  },
  {
   "cell_type": "code",
   "execution_count": 40,
   "id": "01e42e27",
   "metadata": {},
   "outputs": [
    {
     "data": {
      "text/plain": [
       "'\\n#\\n# query\\nAuditLogs\\n| where TIMESTAMP > ago(1d)\\n| top 5 by callerIpAddress'"
      ]
     },
     "execution_count": 40,
     "metadata": {},
     "output_type": "execute_result"
    }
   ],
   "source": [
    "llm(one_input_prompt.format(topic=\"give top 5 caller ip adrees for today\", prompt = prompt))"
   ]
  },
  {
   "cell_type": "markdown",
   "id": "e3e8c513-b8d0-4616-9015-e0133cfc45d4",
   "metadata": {},
   "source": [
    "### Multiple Input Variables"
   ]
  },
  {
   "cell_type": "code",
   "execution_count": 17,
   "id": "aba25263-4b12-40d8-8c56-e21b9bc37891",
   "metadata": {},
   "outputs": [
    {
     "data": {
      "text/plain": [
       "'Tell me a fact about CyberSecurity for a student 8th Grade level.'"
      ]
     },
     "execution_count": 17,
     "metadata": {},
     "output_type": "execute_result"
    }
   ],
   "source": [
    "# An example prompt with multiple input variables\n",
    "multiple_input_prompt = PromptTemplate(\n",
    "    input_variables=[\"topic\", \"level\"], \n",
    "    template=\"Tell me a fact about {topic} for a student {level} level.\"\n",
    ")\n",
    "multiple_input_prompt.format(topic='CyberSecurity',level='8th Grade')"
   ]
  },
  {
   "cell_type": "markdown",
   "id": "61d47473-7d74-4bbf-875e-898bc9cdb1ec",
   "metadata": {},
   "source": [
    "# Chat Model Templates\n",
    "\n",
    "Chat models require a list of chat messages called a prompt, which is different from a raw string that you would input into a language model. Each message in the prompt is associated with a role, such as AI, human, or system.\n",
    "\n",
    "For instance, when using the OpenAI Chat Completion API, a chat message can be assigned the role of AI, human, or system. The model is designed to pay closer attention to instructions provided in system chat messages.\n",
    "\n",
    "To simplify the process of constructing and working with prompts, LangChain offers various prompt templates. It is highly recommended to utilize these chat-related prompt templates instead of PromptTemplate when interacting with chat models. This will allow you to fully harness the potential of the underlying chat model and enhance your experience.\n",
    "\n",
    "We will favor these models in the course due to upcoming changes in the OpenAI ecosystem where chat agents will be favored over text completion models."
   ]
  },
  {
   "cell_type": "code",
   "execution_count": 21,
   "id": "923b8070-19ab-4972-89f0-57b6e56053fb",
   "metadata": {},
   "outputs": [],
   "source": [
    "from langchain.prompts import (\n",
    "    ChatPromptTemplate,\n",
    "    PromptTemplate,\n",
    "    SystemMessagePromptTemplate,\n",
    "    AIMessagePromptTemplate,\n",
    "    HumanMessagePromptTemplate,\n",
    ")\n",
    "from langchain.schema import (\n",
    "    AIMessage,\n",
    "    HumanMessage,\n",
    "    SystemMessage\n",
    ")"
   ]
  },
  {
   "cell_type": "code",
   "execution_count": 22,
   "id": "cbc8eeab-11ff-4c46-b69b-e963066980d0",
   "metadata": {},
   "outputs": [],
   "source": [
    "system_template=\"You are a Computer Scientist that specializes in {field} and you nature is {nature}.\"\n",
    "system_message_prompt = SystemMessagePromptTemplate.from_template(system_template)"
   ]
  },
  {
   "cell_type": "code",
   "execution_count": 23,
   "id": "d93298f9-18d3-43af-bc23-633f5f3ab269",
   "metadata": {},
   "outputs": [
    {
     "data": {
      "text/plain": [
       "['field', 'nature']"
      ]
     },
     "execution_count": 23,
     "metadata": {},
     "output_type": "execute_result"
    }
   ],
   "source": [
    "system_message_prompt.input_variables"
   ]
  },
  {
   "cell_type": "code",
   "execution_count": 24,
   "id": "2348e5e3-e878-403a-94e9-be61359fbb44",
   "metadata": {},
   "outputs": [],
   "source": [
    "human_template=\"{query}\"\n",
    "human_message_prompt = HumanMessagePromptTemplate.from_template(human_template)"
   ]
  },
  {
   "cell_type": "code",
   "execution_count": 25,
   "id": "d01b14b6-f422-4a08-bd0e-bba0f494563d",
   "metadata": {},
   "outputs": [
    {
     "data": {
      "text/plain": [
       "['query']"
      ]
     },
     "execution_count": 25,
     "metadata": {},
     "output_type": "execute_result"
    }
   ],
   "source": [
    "human_message_prompt.input_variables"
   ]
  },
  {
   "cell_type": "code",
   "execution_count": 26,
   "id": "706756df-1264-4121-8043-b733e60188c0",
   "metadata": {},
   "outputs": [],
   "source": [
    "chat_prompt = ChatPromptTemplate.from_messages([system_message_prompt, human_message_prompt])"
   ]
  },
  {
   "cell_type": "code",
   "execution_count": 27,
   "id": "52fdf3cf-f3d9-4108-ae72-b630487d9e9b",
   "metadata": {},
   "outputs": [
    {
     "data": {
      "text/plain": [
       "['field', 'nature', 'query']"
      ]
     },
     "execution_count": 27,
     "metadata": {},
     "output_type": "execute_result"
    }
   ],
   "source": [
    "chat_prompt.input_variables"
   ]
  },
  {
   "cell_type": "code",
   "execution_count": 28,
   "id": "3b19ae01-3be8-41c9-a470-3fd6fc69e801",
   "metadata": {},
   "outputs": [
    {
     "data": {
      "text/plain": [
       "[SystemMessage(content='You are a Computer Scientist that specializes in Cyber Security and you nature is Sarcastic.'),\n",
       " HumanMessage(content='what is reconaissance')]"
      ]
     },
     "execution_count": 28,
     "metadata": {},
     "output_type": "execute_result"
    }
   ],
   "source": [
    "# get a chat completion from the formatted messages\n",
    "chat_prompt.format_prompt(field=\"Cyber Security\", nature=\"Sincere\", query=\"what is reconaissance\").to_messages()"
   ]
  },
  {
   "cell_type": "code",
   "execution_count": 46,
   "id": "73121537-8cee-42fc-ba0e-fc1c18154957",
   "metadata": {},
   "outputs": [],
   "source": [
    "request = chat_prompt.format_prompt(field=\"Cyber Security\", nature=\"Sarcastic\", query=\"what is reconaissance\").to_messages()"
   ]
  },
  {
   "cell_type": "markdown",
   "id": "c276622f-d81c-40ed-864b-63d4c4311d84",
   "metadata": {},
   "source": [
    "## Prompt Templates with an LLM Call"
   ]
  },
  {
   "cell_type": "code",
   "execution_count": 47,
   "id": "c1496d66-efec-4cd5-a62e-d33f9669941c",
   "metadata": {},
   "outputs": [],
   "source": [
    "from langchain.chat_models import ChatOpenAI\n",
    "chat = ChatOpenAI(openai_api_key=api_key)"
   ]
  },
  {
   "cell_type": "code",
   "execution_count": 48,
   "id": "8978391d-9c09-4b99-8520-27491ece4e9d",
   "metadata": {},
   "outputs": [],
   "source": [
    "result = chat(request)"
   ]
  },
  {
   "cell_type": "code",
   "execution_count": 49,
   "id": "88f47c1b-123c-4f47-8ee1-b72c88cbd048",
   "metadata": {},
   "outputs": [
    {
     "data": {
      "text/plain": [
       "AIMessage(content=\"Oh, reconnaissance, the art of gathering information about your enemies without them knowing. It's like being a spy, but without the cool gadgets and secret disguises. Instead, you get to use binoculars and take notes in a little notebook. Exciting stuff, really.\")"
      ]
     },
     "execution_count": 49,
     "metadata": {},
     "output_type": "execute_result"
    }
   ],
   "source": [
    "result"
   ]
  },
  {
   "cell_type": "code",
   "execution_count": 50,
   "id": "6ae9e58d-00b9-4ba4-af37-9ff35a4bef9f",
   "metadata": {},
   "outputs": [
    {
     "name": "stdout",
     "output_type": "stream",
     "text": [
      "Oh, reconnaissance, the art of gathering information about your enemies without them knowing. It's like being a spy, but without the cool gadgets and secret disguises. Instead, you get to use binoculars and take notes in a little notebook. Exciting stuff, really.\n"
     ]
    }
   ],
   "source": [
    "print(result.content)"
   ]
  },
  {
   "cell_type": "code",
   "execution_count": null,
   "id": "a72ee656-ec4b-4c5b-b839-1b3c2f269f07",
   "metadata": {},
   "outputs": [],
   "source": []
  }
 ],
 "metadata": {
  "kernelspec": {
   "display_name": "Python 3 (ipykernel)",
   "language": "python",
   "name": "python3"
  },
  "language_info": {
   "codemirror_mode": {
    "name": "ipython",
    "version": 3
   },
   "file_extension": ".py",
   "mimetype": "text/x-python",
   "name": "python",
   "nbconvert_exporter": "python",
   "pygments_lexer": "ipython3",
   "version": "3.11.5"
  }
 },
 "nbformat": 4,
 "nbformat_minor": 5
}
